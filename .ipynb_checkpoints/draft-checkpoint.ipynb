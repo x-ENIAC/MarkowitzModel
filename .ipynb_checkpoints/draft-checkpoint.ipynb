{
 "cells": [
  {
   "cell_type": "code",
   "execution_count": 33,
   "metadata": {
    "colab": {
     "base_uri": "https://localhost:8080/"
    },
    "id": "PTEKbmE4rhWh",
    "outputId": "66a27d0c-5935-46d2-b29c-b35d496cb286"
   },
   "outputs": [],
   "source": [
    "import numpy as np\n",
    "import pandas as pd\n",
    "import yfinance as yf\n",
    "import matplotlib.pyplot as plt\n",
    "\n",
    "import scipy.optimize as optimization"
   ]
  },
  {
   "cell_type": "code",
   "execution_count": 34,
   "metadata": {
    "id": "GSDUNcwKsMIb"
   },
   "outputs": [],
   "source": [
    "#getting stock data\n",
    "stocks_ex = ['AAPL', 'WMT', 'TSLA', 'GE', 'AMZN', 'DB']\n",
    "# stocks = ['DSKY.ME', 'NKNC.ME', 'MTSS.ME', 'IRAO.ME', 'SBER.ME', 'AFLT.ME']\n",
    "start_date_ex = '2018-01-01'\n",
    "end_date_ex = '2024-01-01'\n",
    "\n",
    "def download_data(stocks, start_date, end_date):\n",
    "  df = {}\n",
    "  for stock in stocks:\n",
    "    ticker = yf.Ticker(stock)\n",
    "    df[stock] = ticker.history(start = start_date, end = end_date)['Close']\n",
    "  return pd.DataFrame(df)\n"
   ]
  },
  {
   "cell_type": "code",
   "execution_count": 35,
   "metadata": {
    "id": "bCI2LgrNujCN"
   },
   "outputs": [],
   "source": [
    "def show_data(data):\n",
    "  data.plot(figsize = (18,5))\n",
    "  plt.show()"
   ]
  },
  {
   "cell_type": "code",
   "execution_count": 36,
   "metadata": {
    "id": "RNIe2J9K0iDi"
   },
   "outputs": [],
   "source": [
    "def calculate_return(data):\n",
    "  log_return = np.log(data / data.shift(1))\n",
    "  return log_return[1:]"
   ]
  },
  {
   "cell_type": "code",
   "execution_count": 37,
   "metadata": {},
   "outputs": [],
   "source": [
    "COEFF = 1"
   ]
  },
  {
   "cell_type": "code",
   "execution_count": 38,
   "metadata": {
    "id": "K61ELfT7HcMV"
   },
   "outputs": [],
   "source": [
    "def show_statistics(returns):\n",
    "  #annual return using mean\n",
    "  print(returns.mean() * COEFF)\n",
    "\n",
    "  #remember covariance is matrix so it will return that\n",
    "  print(returns.cov() * COEFF)"
   ]
  },
  {
   "cell_type": "code",
   "execution_count": 39,
   "metadata": {
    "id": "uAt4CGOHJSce"
   },
   "outputs": [],
   "source": [
    "#caculating annual portfolio return and overall volatility of portfolio\n",
    "def show_mean_variance(returns, weights):\n",
    "  portfolio_return = np.sum(returns.mean() * weights) * COEFF\n",
    "  portfolio_volatility = np.sqrt(np.dot(weights.T, np.dot(returns.cov() * COEFF, weights)))\n",
    "  print(\"Expected portfolio mean(return):\", portfolio_return)\n",
    "  print(\"Expected portfolio volatility(standerd deviation):\", portfolio_volatility)\n"
   ]
  },
  {
   "cell_type": "code",
   "execution_count": 8,
   "metadata": {
    "id": "UxyNL0ydMR9w"
   },
   "outputs": [],
   "source": [
    "def generate_portfolios(returns):\n",
    "  portfolio_means = []\n",
    "  portfolio_risks = []\n",
    "  portfolio_weights = []\n",
    "\n",
    "  for i in range(10000):\n",
    "    w = np.random.random(len(stocks))\n",
    "    w /= np.sum(w)\n",
    "    portfolio_weights.append(w)\n",
    "    # returns.mean() -  среднее по одной акции на протяжении всего времени\n",
    "    portfolio_means.append(np.sum(returns.mean() * w) * COEFF)\n",
    "    portfolio_risks.append(np.sqrt(np.dot(w.T, np.dot(returns.cov() * COEFF, w))))\n",
    "\n",
    "  return np.array(portfolio_weights), np.array(portfolio_means), np.array(portfolio_risks)"
   ]
  },
  {
   "cell_type": "code",
   "execution_count": 9,
   "metadata": {
    "id": "YObL0yvQOnZT"
   },
   "outputs": [],
   "source": [
    "def show_portfolios(returns,volatilities):\n",
    "  plt.figure(figsize = (18,6))\n",
    "  plt.scatter(volatilities, returns, c = returns / volatilities, marker='o')\n",
    "  plt.grid(True)\n",
    "  plt.xlabel('Expected Volatility')\n",
    "  plt.ylabel('Expected Return')\n",
    "  plt.colorbar(label = 'Sharp Ratio')\n",
    "  plt.show()"
   ]
  },
  {
   "cell_type": "code",
   "execution_count": 10,
   "metadata": {
    "id": "cKccv_SM_c-l"
   },
   "outputs": [],
   "source": [
    "def statistics(weights, returns):\n",
    "  portfolio_return = np.sum(returns.mean() * weights) * COEFF\n",
    "  portfolio_volatility = np.sqrt(np.dot(weights.T, np.dot(returns.cov() * COEFF, weights)))\n",
    "  return np.array([portfolio_return, portfolio_volatility, portfolio_return / portfolio_volatility])\n"
   ]
  },
  {
   "cell_type": "code",
   "execution_count": 11,
   "metadata": {
    "id": "6ckZgZWKAidJ"
   },
   "outputs": [],
   "source": [
    "#scipy find min of given function so we wil find min of -f(x) to get max of f(x)\n",
    "#f(x)=0 this is the function to minimize\n",
    "# минимальный риск при заданной степени дохода\n",
    "def min_function_sharp(weights, returns):\n",
    "  return statistics(weights, returns)[1]\n",
    "# было return -statistics(weights, returns)[2]\n"
   ]
  },
  {
   "cell_type": "code",
   "execution_count": 12,
   "metadata": {},
   "outputs": [],
   "source": [
    "DOHOD = 0.000824740721\n",
    "# Пусть будет 100% в год (хотим удвоить).  \n",
    "# x^365 = 2, x - доходность акций\n",
    "# x = 1.00190084\n",
    "# Берём логарифм. ln(x) = 0.000824740721\n",
    "# Модель заменяет её сложную динамику на линейную модель. То есть берёём вместо x среднюю доходность и делаем вид, что она постоянно такая"
   ]
  },
  {
   "cell_type": "code",
   "execution_count": 13,
   "metadata": {
    "id": "q2YSZpUeBJG5"
   },
   "outputs": [],
   "source": [
    "def optimize_portfolio(weights, returns):\n",
    "  constrains = [\n",
    "    {\n",
    "      'type': 'eq',\n",
    "      'fun': lambda x: np.sum(x) - 1\n",
    "    },\n",
    "    {\n",
    "      'type': 'eq',\n",
    "      'fun': lambda x, returns: np.sum(returns.mean() * x) * COEFF - DOHOD, # lambda x : np.sum(x) - 1\n",
    "      'args': (returns,)\n",
    "    },\n",
    "  ]\n",
    "  #the weight can be 1 at most for single stock or weights can have value with in 0 and 1\n",
    "  bounds = tuple((0, 1) for _ in range(len(stocks)))\n",
    "  return optimization.minimize(\n",
    "    fun = min_function_sharp,\n",
    "    x0 = weights[0],\n",
    "    args = returns,\n",
    "    method = 'SLSQP',\n",
    "    bounds = bounds,\n",
    "    constraints = constrains\n",
    "  )\n"
   ]
  },
  {
   "cell_type": "code",
   "execution_count": 14,
   "metadata": {
    "id": "xmtbZc50DgP0"
   },
   "outputs": [],
   "source": [
    "def print_optimal_portfolio(optimum, returns):\n",
    "  print(\"Optimal portfolio:\", optimum['x'].round(3))\n",
    "  print(\"Expected return, volatility and sharp ratio:\", statistics(optimum['x'].round(3), returns))"
   ]
  },
  {
   "cell_type": "code",
   "execution_count": 15,
   "metadata": {
    "id": "HxJaEo7uElpw"
   },
   "outputs": [],
   "source": [
    "def show_optimal_portfolios(opt, rets, portfolio_rets, portfolio_vols):\n",
    "  plt.figure(figsize = (10,6))\n",
    "  plt.scatter(\n",
    "    portfolio_vols,\n",
    "    portfolio_rets,\n",
    "    c = portfolio_rets / portfolio_vols,\n",
    "    marker='o'\n",
    "  )\n",
    "  plt.grid(True)\n",
    "  plt.xlabel('Expected Volatility')\n",
    "  plt.ylabel('Expected Return')\n",
    "  plt.colorbar(label = 'Sharp Ratio')\n",
    "  plt.plot(\n",
    "    statistics(opt['x'], rets)[1],\n",
    "    statistics(opt['x'], rets)[0],\n",
    "    'g*',\n",
    "    markersize = 20\n",
    "  )\n",
    "  plt.show()"
   ]
  },
  {
   "cell_type": "code",
   "execution_count": 16,
   "metadata": {},
   "outputs": [],
   "source": [
    "# if __name__ == '__main__':\n",
    "#   dataset = (download_data())\n",
    "#   show_data(dataset)\n",
    "#   log_daily_returns = calculate_return(dataset)\n",
    "#   #show_statistics(log_daily_returns)\n",
    "\n",
    "#   pweights, means, risks = generate_portfolios(log_daily_returns)\n",
    "#   show_portfolios(means, risks)\n",
    "#   optimum = optimize_portfolio(pweights, log_daily_returns)\n",
    "#   print_optimal_portfolio(optimum, log_daily_returns)\n",
    "#   show_optimal_portfolios(optimum, log_daily_returns, means, risks)"
   ]
  },
  {
   "cell_type": "code",
   "execution_count": 17,
   "metadata": {},
   "outputs": [
    {
     "name": "stdout",
     "output_type": "stream",
     "text": [
      "Requirement already satisfied: pytickersymbols in /Users/daniela/miniforge3/lib/python3.10/site-packages (1.13.0)\n",
      "Requirement already satisfied: wheel==0.38.4 in /Users/daniela/miniforge3/lib/python3.10/site-packages (from pytickersymbols) (0.38.4)\n",
      "Requirement already satisfied: PyYAML==6.0 in /Users/daniela/miniforge3/lib/python3.10/site-packages (from pytickersymbols) (6.0)\n",
      "Requirement already satisfied: packaging in /Users/daniela/miniforge3/lib/python3.10/site-packages (from pytickersymbols) (23.0)\n",
      "Requirement already satisfied: get-all-tickers in /Users/daniela/miniforge3/lib/python3.10/site-packages (1.8)\n",
      "Requirement already satisfied: pandas in /Users/daniela/miniforge3/lib/python3.10/site-packages (from get-all-tickers) (2.2.2)\n",
      "Requirement already satisfied: requests in /Users/daniela/miniforge3/lib/python3.10/site-packages (from get-all-tickers) (2.31.0)\n",
      "Requirement already satisfied: numpy>=1.22.4 in /Users/daniela/miniforge3/lib/python3.10/site-packages (from pandas->get-all-tickers) (1.26.4)\n",
      "Requirement already satisfied: python-dateutil>=2.8.2 in /Users/daniela/miniforge3/lib/python3.10/site-packages (from pandas->get-all-tickers) (2.9.0.post0)\n",
      "Requirement already satisfied: pytz>=2020.1 in /Users/daniela/miniforge3/lib/python3.10/site-packages (from pandas->get-all-tickers) (2024.1)\n",
      "Requirement already satisfied: tzdata>=2022.7 in /Users/daniela/miniforge3/lib/python3.10/site-packages (from pandas->get-all-tickers) (2024.1)\n",
      "Requirement already satisfied: charset-normalizer<4,>=2 in /Users/daniela/miniforge3/lib/python3.10/site-packages (from requests->get-all-tickers) (3.3.2)\n",
      "Requirement already satisfied: idna<4,>=2.5 in /Users/daniela/miniforge3/lib/python3.10/site-packages (from requests->get-all-tickers) (3.7)\n",
      "Requirement already satisfied: urllib3<3,>=1.21.1 in /Users/daniela/miniforge3/lib/python3.10/site-packages (from requests->get-all-tickers) (2.2.1)\n",
      "Requirement already satisfied: certifi>=2017.4.17 in /Users/daniela/miniforge3/lib/python3.10/site-packages (from requests->get-all-tickers) (2024.2.2)\n",
      "Requirement already satisfied: six>=1.5 in /Users/daniela/miniforge3/lib/python3.10/site-packages (from python-dateutil>=2.8.2->pandas->get-all-tickers) (1.16.0)\n"
     ]
    }
   ],
   "source": [
    "!pip install pytickersymbols\n",
    "!pip install get-all-tickers"
   ]
  },
  {
   "cell_type": "code",
   "execution_count": 22,
   "metadata": {},
   "outputs": [
    {
     "name": "stdout",
     "output_type": "stream",
     "text": [
      "['get_aex_frankfurt_google_tickers', 'get_aex_frankfurt_yahoo_tickers', 'get_aex_london_google_tickers', 'get_aex_london_yahoo_tickers', 'get_aex_moscow_google_tickers', 'get_aex_moscow_yahoo_tickers', 'get_aex_nyc_google_tickers', 'get_aex_nyc_yahoo_tickers', 'get_bel_20_frankfurt_google_tickers', 'get_bel_20_frankfurt_yahoo_tickers', 'get_bel_20_london_google_tickers', 'get_bel_20_london_yahoo_tickers', 'get_bel_20_moscow_google_tickers', 'get_bel_20_moscow_yahoo_tickers', 'get_bel_20_nyc_google_tickers', 'get_bel_20_nyc_yahoo_tickers', 'get_cac_40_frankfurt_google_tickers', 'get_cac_40_frankfurt_yahoo_tickers', 'get_cac_40_london_google_tickers', 'get_cac_40_london_yahoo_tickers', 'get_cac_40_moscow_google_tickers', 'get_cac_40_moscow_yahoo_tickers', 'get_cac_40_nyc_google_tickers', 'get_cac_40_nyc_yahoo_tickers', 'get_cac_mid_60_frankfurt_google_tickers', 'get_cac_mid_60_frankfurt_yahoo_tickers', 'get_cac_mid_60_london_google_tickers', 'get_cac_mid_60_london_yahoo_tickers', 'get_cac_mid_60_moscow_google_tickers', 'get_cac_mid_60_moscow_yahoo_tickers', 'get_cac_mid_60_nyc_google_tickers', 'get_cac_mid_60_nyc_yahoo_tickers', 'get_cdax_frankfurt_google_tickers', 'get_cdax_frankfurt_yahoo_tickers', 'get_cdax_london_google_tickers', 'get_cdax_london_yahoo_tickers', 'get_cdax_moscow_google_tickers', 'get_cdax_moscow_yahoo_tickers', 'get_cdax_nyc_google_tickers', 'get_cdax_nyc_yahoo_tickers', 'get_dax_frankfurt_google_tickers', 'get_dax_frankfurt_yahoo_tickers', 'get_dax_london_google_tickers', 'get_dax_london_yahoo_tickers', 'get_dax_moscow_google_tickers', 'get_dax_moscow_yahoo_tickers', 'get_dax_nyc_google_tickers', 'get_dax_nyc_yahoo_tickers', 'get_dow_jones_frankfurt_google_tickers', 'get_dow_jones_frankfurt_yahoo_tickers', 'get_dow_jones_london_google_tickers', 'get_dow_jones_london_yahoo_tickers', 'get_dow_jones_moscow_google_tickers', 'get_dow_jones_moscow_yahoo_tickers', 'get_dow_jones_nyc_google_tickers', 'get_dow_jones_nyc_yahoo_tickers', 'get_euro_stoxx_50_frankfurt_google_tickers', 'get_euro_stoxx_50_frankfurt_yahoo_tickers', 'get_euro_stoxx_50_london_google_tickers', 'get_euro_stoxx_50_london_yahoo_tickers', 'get_euro_stoxx_50_moscow_google_tickers', 'get_euro_stoxx_50_moscow_yahoo_tickers', 'get_euro_stoxx_50_nyc_google_tickers', 'get_euro_stoxx_50_nyc_yahoo_tickers', 'get_ftse_100_frankfurt_google_tickers', 'get_ftse_100_frankfurt_yahoo_tickers', 'get_ftse_100_london_google_tickers', 'get_ftse_100_london_yahoo_tickers', 'get_ftse_100_moscow_google_tickers', 'get_ftse_100_moscow_yahoo_tickers', 'get_ftse_100_nyc_google_tickers', 'get_ftse_100_nyc_yahoo_tickers', 'get_ibex_35_frankfurt_google_tickers', 'get_ibex_35_frankfurt_yahoo_tickers', 'get_ibex_35_london_google_tickers', 'get_ibex_35_london_yahoo_tickers', 'get_ibex_35_moscow_google_tickers', 'get_ibex_35_moscow_yahoo_tickers', 'get_ibex_35_nyc_google_tickers', 'get_ibex_35_nyc_yahoo_tickers', 'get_mdax_frankfurt_google_tickers', 'get_mdax_frankfurt_yahoo_tickers', 'get_mdax_london_google_tickers', 'get_mdax_london_yahoo_tickers', 'get_mdax_moscow_google_tickers', 'get_mdax_moscow_yahoo_tickers', 'get_mdax_nyc_google_tickers', 'get_mdax_nyc_yahoo_tickers', 'get_moex_frankfurt_google_tickers', 'get_moex_frankfurt_yahoo_tickers', 'get_moex_london_google_tickers', 'get_moex_london_yahoo_tickers', 'get_moex_moscow_google_tickers', 'get_moex_moscow_yahoo_tickers', 'get_moex_nyc_google_tickers', 'get_moex_nyc_yahoo_tickers', 'get_nasdaq_100_frankfurt_google_tickers', 'get_nasdaq_100_frankfurt_yahoo_tickers', 'get_nasdaq_100_london_google_tickers', 'get_nasdaq_100_london_yahoo_tickers', 'get_nasdaq_100_moscow_google_tickers', 'get_nasdaq_100_moscow_yahoo_tickers', 'get_nasdaq_100_nyc_google_tickers', 'get_nasdaq_100_nyc_yahoo_tickers', 'get_omx_helsinki_25_frankfurt_google_tickers', 'get_omx_helsinki_25_frankfurt_yahoo_tickers', 'get_omx_helsinki_25_london_google_tickers', 'get_omx_helsinki_25_london_yahoo_tickers', 'get_omx_helsinki_25_moscow_google_tickers', 'get_omx_helsinki_25_moscow_yahoo_tickers', 'get_omx_helsinki_25_nyc_google_tickers', 'get_omx_helsinki_25_nyc_yahoo_tickers', 'get_omx_stockholm_30_frankfurt_google_tickers', 'get_omx_stockholm_30_frankfurt_yahoo_tickers', 'get_omx_stockholm_30_london_google_tickers', 'get_omx_stockholm_30_london_yahoo_tickers', 'get_omx_stockholm_30_moscow_google_tickers', 'get_omx_stockholm_30_moscow_yahoo_tickers', 'get_omx_stockholm_30_nyc_google_tickers', 'get_omx_stockholm_30_nyc_yahoo_tickers', 'get_sdax_frankfurt_google_tickers', 'get_sdax_frankfurt_yahoo_tickers', 'get_sdax_london_google_tickers', 'get_sdax_london_yahoo_tickers', 'get_sdax_moscow_google_tickers', 'get_sdax_moscow_yahoo_tickers', 'get_sdax_nyc_google_tickers', 'get_sdax_nyc_yahoo_tickers', 'get_sp_100_frankfurt_google_tickers', 'get_sp_100_frankfurt_yahoo_tickers', 'get_sp_100_london_google_tickers', 'get_sp_100_london_yahoo_tickers', 'get_sp_100_moscow_google_tickers', 'get_sp_100_moscow_yahoo_tickers', 'get_sp_100_nyc_google_tickers', 'get_sp_100_nyc_yahoo_tickers', 'get_sp_500_frankfurt_google_tickers', 'get_sp_500_frankfurt_yahoo_tickers', 'get_sp_500_london_google_tickers', 'get_sp_500_london_yahoo_tickers', 'get_sp_500_moscow_google_tickers', 'get_sp_500_moscow_yahoo_tickers', 'get_sp_500_nyc_google_tickers', 'get_sp_500_nyc_yahoo_tickers', 'get_sp_600_frankfurt_google_tickers', 'get_sp_600_frankfurt_yahoo_tickers', 'get_sp_600_london_google_tickers', 'get_sp_600_london_yahoo_tickers', 'get_sp_600_moscow_google_tickers', 'get_sp_600_moscow_yahoo_tickers', 'get_sp_600_nyc_google_tickers', 'get_sp_600_nyc_yahoo_tickers', 'get_switzerland_20_frankfurt_google_tickers', 'get_switzerland_20_frankfurt_yahoo_tickers', 'get_switzerland_20_london_google_tickers', 'get_switzerland_20_london_yahoo_tickers', 'get_switzerland_20_moscow_google_tickers', 'get_switzerland_20_moscow_yahoo_tickers', 'get_switzerland_20_nyc_google_tickers', 'get_switzerland_20_nyc_yahoo_tickers', 'get_tecdax_frankfurt_google_tickers', 'get_tecdax_frankfurt_yahoo_tickers', 'get_tecdax_london_google_tickers', 'get_tecdax_london_yahoo_tickers', 'get_tecdax_moscow_google_tickers', 'get_tecdax_moscow_yahoo_tickers', 'get_tecdax_nyc_google_tickers', 'get_tecdax_nyc_yahoo_tickers']\n"
     ]
    }
   ],
   "source": [
    "from pytickersymbols import PyTickerSymbols\n",
    "# from get_all_tickers import get_tickers as gt\n",
    "\n",
    "# list_of_tickers = gt.get_tickers()\n",
    "\n",
    "# print(list_of_tickers[0])\n",
    "\n",
    "stock_data = PyTickerSymbols()\n",
    "countries = stock_data.get_all_countries()\n",
    "indices = stock_data.get_all_indices()\n",
    "industries = stock_data.get_all_industries()\n",
    "\n",
    "# the naming conversation is get_{index_name}_{exchange_city}_{yahoo or google}_tickers\n",
    "dax_google = stock_data.get_dax_frankfurt_google_tickers()\n",
    "dax_yahoo = stock_data.get_dax_frankfurt_yahoo_tickers()\n",
    "sp100_yahoo = stock_data.get_sp_100_nyc_yahoo_tickers()\n",
    "sp500_google = stock_data.get_sp_500_nyc_google_tickers()\n",
    "dow_yahoo = stock_data.get_dow_jones_nyc_yahoo_tickers()\n",
    "# there are too many combination. Here is a complete list of all getters\n",
    "all_ticker_getter_names = list(filter(\n",
    "   lambda x: (\n",
    "         x.endswith('_google_tickers') or x.endswith('_yahoo_tickers')\n",
    "   ),\n",
    "   dir(stock_data),\n",
    "))\n",
    "# print(all_ticker_getter_names)"
   ]
  },
  {
   "cell_type": "code",
   "execution_count": 29,
   "metadata": {},
   "outputs": [
    {
     "name": "stdout",
     "output_type": "stream",
     "text": [
      "['A', 'AA', 'AACT', 'AAN', 'AAP', 'AAT', 'AB', 'ABBV', 'ABEV', 'ABG', 'ABM', 'ABR', 'ABR^D', 'ABR^E', 'ABR^F', 'ABT', 'AC', 'ACA', 'ACCO', 'ACEL', 'ACHR', 'ACI', 'ACM', 'ACN', 'ACP', 'ACP^A', 'ACR', 'ACR^C', 'ACR^D', 'ACRE', 'ACV', 'ADC', 'ADC^A', 'ADCT', 'ADM', 'ADNT', 'ADT', 'ADX', 'AEE', 'AEFC', 'AEG', 'AEL', 'AEL^A', 'AEL^B', 'AEM', 'AEO', 'AER', 'AES', 'AESI', 'AEVA', 'AFB', 'AFG', 'AFGB', 'AFGC', 'AFGD', 'AFGE', 'AFL', 'AFT', 'AG', 'AGCO', 'AGD', 'AGI', 'AGL', 'AGM', 'AGM^C', 'AGM^D', 'AGM^E', 'AGM^F', 'AGM^G', 'AGO', 'AGR', 'AGRO', 'AGS', 'AGTI', 'AGX', 'AHH', 'AHH^A', 'AHL^C', 'AHL^D', 'AHL^E', 'AHR', 'AHT', 'AHT^D', 'AHT^F', 'AHT^G', 'AHT^H', 'AHT^I', 'AI', 'AIF', 'AIG', 'AIN', 'AIO', 'AIR', 'AIRC', 'AIT', 'AIU', 'AIV', 'AIZ', 'AIZN', 'AJG', 'AJX', 'AJXA', 'AKA', 'AKO/A', 'AKO/B', 'AKR', 'AL', 'AL^A', 'ALB', 'ALB^A', 'ALC', 'ALCC', 'ALE', 'ALEX', 'ALG', 'ALIT', 'ALK', 'ALL', 'ALL^B', 'ALL^H', 'ALL^I', 'ALL^J', 'ALLE', 'ALLG', 'ALLY', 'ALSN', 'ALTG', 'ALTG^A', 'ALTM', 'ALUR', 'ALV', 'ALX', 'AM', 'AMBC', 'AMBP', 'AMC', 'AMCR', 'AME', 'AMG', 'AMH', 'AMH^G', 'AMH^H', 'AMK', 'AMN', 'AMP', 'AMPS', 'AMPX', 'AMPY', 'AMR', 'AMRC', 'AMT', 'AMTB', 'AMTD', 'AMWL', 'AMX', 'AN', 'ANET', 'ANF', 'ANRO', 'ANVS', 'AOD', 'AOMR', 'AON', 'AORT', 'AOS', 'AP', 'APAM', 'APCA', 'APD', 'APG', 'APH', 'APLE', 'APO', 'APO^A', 'APOS', 'APTV', 'AQN', 'AQNB', 'AQNU', 'AR', 'ARC', 'ARCH', 'ARCO', 'ARDC', 'ARE', 'ARES', 'ARGD', 'ARGO^A', 'ARI', 'ARIS', 'ARL', 'ARLO', 'ARMK', 'AROC', 'ARR', 'ARR^C', 'ARW', 'AS', 'ASA', 'ASAI', 'ASAN', 'ASB', 'ASB^E', 'ASB^F', 'ASBA', 'ASC', 'ASG', 'ASGI', 'ASGN', 'ASH', 'ASIX', 'ASPN', 'ASR', 'ASX', 'ATCO^D', 'ATCO^H', 'ATEN', 'ATGE', 'ATH^A', 'ATH^B', 'ATH^C', 'ATH^D', 'ATH^E', 'ATHM', 'ATHS', 'ATI', 'ATIP', 'ATKR', 'ATMU', 'ATO', 'ATR', 'ATS', 'ATUS', 'AU', 'AUB', 'AUB^A', 'AUNA', 'AVA', 'AVAL', 'AVB', 'AVD', 'AVK', 'AVNS', 'AVNT', 'AVTR', 'AVY', 'AWF', 'AWI', 'AWK', 'AWP', 'AWR', 'AX', 'AXL', 'AXP', 'AXR', 'AXS', 'AXS^E', 'AXTA', 'AYI', 'AZEK', 'AZO', 'AZUL', 'AZZ', 'B', 'BA', 'BABA', 'BAC', 'BAC^B', 'BAC^E', 'BAC^K', 'BAC^L', 'BAC^M', 'BAC^N', 'BAC^O', 'BAC^P', 'BAC^Q', 'BAC^S', 'BAH', 'BAK', 'BALL', 'BALY', 'BAM', 'BANC', 'BANC^F', 'BAP', 'BARK', 'BAX', 'BB', 'BBAI', 'BBAR', 'BBD', 'BBDC', 'BBDO', 'BBN', 'BBU', 'BBUC', 'BBVA', 'BBW', 'BBWI', 'BBY', 'BC', 'BC^A', 'BC^B', 'BC^C', 'BCAT', 'BCC', 'BCE', 'BCH', 'BCO', 'BCS', 'BCSF', 'BCX', 'BDC', 'BDJ', 'BDN', 'BDX', 'BE', 'BEDU', 'BEKE', 'BEN', 'BEP', 'BEP^A', 'BEPC', 'BEPH', 'BEPI', 'BEPJ', 'BERY', 'BEST', 'BF/A', 'BF/B', 'BFAC', 'BFAM', 'BFH', 'BFK', 'BFLY', 'BFS', 'BFS^D', 'BFS^E', 'BFZ', 'BG', 'BGB', 'BGH', 'BGR', 'BGS', 'BGSF', 'BGT', 'BGX', 'BGY', 'BH', 'BHC', 'BHE', 'BHIL', 'BHK', 'BHLB', 'BHP', 'BHR', 'BHR^B', 'BHR^D', 'BHV', 'BHVN', 'BIG', 'BIGZ', 'BILL', 'BIO', 'BIO/B', 'BIP', 'BIP^A', 'BIP^B', 'BIPC', 'BIPH', 'BIPI', 'BIRK', 'BIT', 'BJ', 'BK', 'BKD', 'BKDT', 'BKE', 'BKH', 'BKKT', 'BKN', 'BKSY', 'BKT', 'BKU', 'BLCO', 'BLD', 'BLDR', 'BLE', 'BLK', 'BLND', 'BLW', 'BLX', 'BMA', 'BME', 'BMEZ', 'BMI', 'BML^G', 'BML^H', 'BML^J', 'BML^L', 'BMN', 'BMO', 'BMY', 'BN', 'BNED', 'BNH', 'BNJ', 'BNL', 'BNRE', 'BNS', 'BNY', 'BOC', 'BODI', 'BOE', 'BOH', 'BOH^A', 'BOOT', 'BORR', 'BOWL', 'BOX', 'BP', 'BPT', 'BR', 'BRBR', 'BRC', 'BRCC', 'BRDG', 'BRFS', 'BRK/A', 'BRK/B', 'BRO', 'BROS', 'BRSP', 'BRT', 'BRW', 'BRX', 'BSAC', 'BSBR', 'BSIG', 'BSL', 'BSM', 'BST', 'BSTZ', 'BSX', 'BTA', 'BTCM', 'BTE', 'BTI', 'BTO', 'BTT', 'BTU', 'BTZ', 'BUD', 'BUI', 'BUR', 'BURL', 'BV', 'BVN', 'BW', 'BW^A', 'BWA', 'BWG', 'BWNB', 'BWSN', 'BWXT', 'BX', 'BXC', 'BXMT', 'BXMX', 'BXP', 'BXSL', 'BY', 'BYD', 'BYM', 'BYON', 'BZH', 'C', 'C^N', 'CAAP', 'CABO', 'CACI', 'CADE', 'CADE^A', 'CAE', 'CAF', 'CAG', 'CAH', 'CAL', 'CALX', 'CANG', 'CAPL', 'CARR', 'CARS', 'CAT', 'CATO', 'CAVA', 'CB', 'CBD', 'CBH', 'CBL', 'CBRE', 'CBT', 'CBU', 'CBZ', 'CC', 'CCI', 'CCIA', 'CCIF', 'CCJ', 'CCK', 'CCL', 'CCM', 'CCO', 'CCRD', 'CCS', 'CCU', 'CCZ', 'CDE', 'CDLR', 'CDP', 'CDR^B', 'CDR^C', 'CDRE', 'CE', 'CEE', 'CEIX', 'CEM', 'CEPU', 'CF', 'CFG', 'CFG^D', 'CFG^E', 'CFR', 'CFR^B', 'CGA', 'CGAU', 'CHCT', 'CHD', 'CHE', 'CHGG', 'CHH', 'CHMI', 'CHMI^A', 'CHMI^B', 'CHN', 'CHPT', 'CHT', 'CHWY', 'CI', 'CIA', 'CIB', 'CIEN', 'CIF', 'CIG', 'CII', 'CIM', 'CIM^A', 'CIM^B', 'CIM^C', 'CIM^D', 'CINT', 'CIO', 'CIO^A', 'CION', 'CIVI', 'CL', 'CLB', 'CLBR', 'CLCO', 'CLDT', 'CLDT^A', 'CLF', 'CLH', 'CLPR', 'CLS', 'CLVT', 'CLVT^A', 'CLW', 'CLX', 'CM', 'CMA', 'CMC', 'CMCM', 'CMG', 'CMI', 'CMP', 'CMRE', 'CMRE^B', 'CMRE^C', 'CMRE^D', 'CMRE^E', 'CMS', 'CMS^B', 'CMS^C', 'CMSA', 'CMSC', 'CMSD', 'CMTG', 'CMU', 'CNA', 'CNC', 'CNDA', 'CNF', 'CNHI', 'CNI', 'CNK', 'CNM', 'CNMD', 'CNNE', 'CNO', 'CNO^A', 'CNP', 'CNQ', 'CNS', 'CNX', 'CODI', 'CODI^A', 'CODI^B', 'CODI^C', 'COF', 'COF^I', 'COF^J', 'COF^K', 'COF^L', 'COF^N', 'COHR', 'COLD', 'COMP', 'COOK', 'COP', 'COR', 'COTY', 'COUR', 'CP', 'CPA', 'CPAC', 'CPAY', 'CPB', 'CPF', 'CPG', 'CPK', 'CPNG', 'CPRI', 'CPS', 'CPT', 'CQP', 'CR', 'CRBG', 'CRC', 'CRD/A', 'CRD/B', 'CRGY', 'CRH', 'CRI', 'CRK', 'CRL', 'CRM', 'CRS', 'CRT', 'CSAN', 'CSL', 'CSR', 'CSR^C', 'CSTM', 'CSV', 'CTA^A', 'CTA^B', 'CTBB', 'CTDD', 'CTLT', 'CTO', 'CTO^A', 'CTOS', 'CTR', 'CTRA', 'CTRE', 'CTS', 'CTV', 'CTVA', 'CUBB', 'CUBE', 'CUBI', 'CUBI^E', 'CUBI^F', 'CUK', 'CULP', 'CURV', 'CUZ', 'CVE', 'CVEO', 'CVI', 'CVNA', 'CVS', 'CVX', 'CW', 'CWAN', 'CWEN', 'CWH', 'CWK', 'CWT', 'CX', 'CXE', 'CXH', 'CXM', 'CXT', 'CXW', 'CYD', 'CYH', 'CZOO', 'D', 'DAC', 'DAL', 'DAN', 'DAO', 'DAR', 'DAVA', 'DAY', 'DB', 'DBD', 'DBI', 'DBL', 'DBRG', 'DBRG^H', 'DBRG^I', 'DBRG^J', 'DCF', 'DCI', 'DCO', 'DD', 'DDD', 'DDL', 'DDS', 'DDT', 'DE', 'DEA', 'DEC', 'DECK', 'DEI', 'DELL', 'DEO', 'DESP', 'DFH', 'DFIN', 'DFP', 'DFS', 'DG', 'DGX', 'DHF', 'DHI', 'DHR', 'DHT', 'DHX', 'DIAX', 'DIN', 'DINO', 'DIS', 'DK', 'DKL', 'DKS', 'DLB', 'DLNG', 'DLNG^A', 'DLNG^B', 'DLR', 'DLR^J', 'DLR^K', 'DLR^L', 'DLX', 'DLY', 'DM', 'DMA', 'DMB', 'DMO', 'DNA', 'DNB', 'DNMR', 'DNOW', 'DNP', 'DO', 'DOC', 'DOCN', 'DOCS', 'DOLE', 'DOMA', 'DOOR', 'DOUG', 'DOV', 'DOW', 'DPG', 'DPZ', 'DQ', 'DRD', 'DRH', 'DRH^A', 'DRI', 'DRQ', 'DSAQ', 'DSL', 'DSM', 'DSU', 'DSX', 'DSX^B', 'DT', 'DTB', 'DTC', 'DTE', 'DTF', 'DTG', 'DTM', 'DTW', 'DUK', 'DUK^A', 'DUKB', 'DV', 'DVA', 'DVN', 'DX', 'DX^C', 'DXC', 'DXYZ', 'DY', 'E', 'EAF', 'EAI', 'EARN', 'EAT', 'EB', 'EBF', 'EBR', 'EBS', 'EC', 'ECAT', 'ECC           ', 'ECC^D', 'ECCC', 'ECCF', 'ECCV', 'ECCW', 'ECCX', 'ECL', 'ECO', 'ECVT', 'ED', 'EDD', 'EDF', 'EDN', 'EDR', 'EDU', 'EE', 'EEA', 'EEX', 'EFC', 'EFC^A', 'EFC^B', 'EFC^C', 'EFC^D', 'EFC^E', 'EFR', 'EFT', 'EFX', 'EFXT', 'EG', 'EGF', 'EGO', 'EGP', 'EGY', 'EHAB', 'EHC', 'EHI', 'EIC', 'EICA', 'EICB', 'EICC', 'EIG', 'EIX', 'EL', 'ELAN', 'ELC', 'ELF', 'ELME', 'ELP', 'ELPC', 'ELS', 'ELV', 'EMD', 'EME', 'EMF', 'EMN', 'EMO', 'EMP', 'EMR', 'ENB', 'ENFN', 'ENIC', 'ENJ', 'ENLC', 'ENO', 'ENOV', 'ENR', 'ENS', 'ENV', 'ENVA', 'ENZ', 'EOD', 'EOG', 'EOI', 'EOS', 'EOT', 'EP^C', 'EPAC', 'EPAM', 'EPC', 'EPD', 'EPR', 'EPR^C', 'EPR^E', 'EPR^G', 'EPRT', 'EQBK', 'EQC', 'EQC^D', 'EQH', 'EQH^A', 'EQH^C', 'EQNR', 'EQR', 'EQS', 'EQT', 'ERF', 'ERJ', 'ERO', 'ES', 'ESAB', 'ESE', 'ESI', 'ESNT', 'ESRT', 'ESS', 'ESTC', 'ET', 'ET^E', 'ET^I', 'ETB', 'ETD', 'ETG', 'ETI^', 'ETJ', 'ETN', 'ETO', 'ETR', 'ETRN', 'ETV', 'ETW', 'ETWO', 'ETX           ', 'ETY', 'EURN', 'EVA', 'EVC', 'EVEX', 'EVF', 'EVG', 'EVH', 'EVN', 'EVR', 'EVRI', 'EVT', 'EVTC', 'EVTL', 'EW', 'EXG', 'EXK', 'EXP', 'EXPD', 'EXR', 'EXTO', 'F', 'F^B', 'F^C', 'F^D', 'FAF', 'FAM', 'FATH', 'FBIN', 'FBK', 'FBP', 'FBRT', 'FBRT^E', 'FC', 'FCF', 'FCN', 'FCPT', 'FCRX', 'FCT', 'FCX', 'FDP', 'FDX', 'FE', 'FEDU', 'FEI           ', 'FENG', 'FERG', 'FET', 'FF', 'FFA', 'FFC', 'FFWM', 'FG', 'FGB', 'FGN', 'FHI', 'FHN', 'FHN^B', 'FHN^C', 'FHN^D', 'FHN^E', 'FHN^F', 'FI', 'FICO', 'FIF', 'FIGS', 'FIHL', 'FINS', 'FINV', 'FIS', 'FIX', 'FL', 'FLC', 'FLNG', 'FLO', 'FLR', 'FLS', 'FLUT', 'FMC', 'FMN', 'FMS', 'FMX', 'FMY', 'FN', 'FNA', 'FNB', 'FND', 'FNF', 'FNV', 'FOA', 'FOF', 'FOR', 'FOUR', 'FPF', 'FPH', 'FPI', 'FPL', 'FR', 'FRA', 'FREY', 'FRGE', 'FRO', 'FRT', 'FRT^C', 'FSCO', 'FSD', 'FSK', 'FSLY', 'FSM', 'FSS', 'FT', 'FTHY', 'FTI', 'FTK', 'FTS', 'FTV', 'FUBO', 'FUL', 'FUN', 'FVRR', 'G', 'GAB', 'GAB^G', 'GAB^H', 'GAB^K', 'GAM', 'GAM^B', 'GATO', 'GATX', 'GB', 'GBAB', 'GBCI', 'GBLI', 'GBTG', 'GBX', 'GCI', 'GCO', 'GCTS', 'GCV', 'GD', 'GDDY', 'GDL', 'GDL^C', 'GDO', 'GDOT', 'GDV', 'GDV^H', 'GDV^K', 'GE', 'GEF', 'GEL', 'GENI', 'GEO', 'GES', 'GETR', 'GETY', 'GEV', 'GF', 'GFF', 'GFI', 'GFL', 'GFR', 'GGB', 'GGG', 'GGT', 'GGT^E', 'GGT^G', 'GGZ', 'GHC', 'GHG', 'GHI', 'GHLD', 'GHM', 'GHY', 'GIB', 'GIC', 'GIL', 'GIS', 'GJH', 'GJO', 'GJP', 'GJR', 'GJS', 'GJT', 'GKOS', 'GL', 'GL^D', 'GLOB', 'GLOG^A', 'GLOP^A', 'GLOP^B', 'GLOP^C', 'GLP', 'GLP^B', 'GLT', 'GLW', 'GM', 'GME', 'GMED', 'GMRE', 'GMRE^A', 'GMS', 'GNE', 'GNK', 'GNL', 'GNL^A', 'GNL^B', 'GNL^D', 'GNL^E', 'GNRC', 'GNT', 'GNT^A', 'GNTY', 'GNW', 'GOF', 'GOLD', 'GOLF', 'GOOS', 'GOTU', 'GPC', 'GPI', 'GPJA', 'GPK', 'GPMT', 'GPMT^A', 'GPN', 'GPOR', 'GPRK', 'GPS', 'GRBK', 'GRBK^A', 'GRC', 'GRMN', 'GRND', 'GRNT', 'GROV', 'GRX', 'GS', 'GS^A', 'GS^C', 'GS^D', 'GS^K', 'GSBD', 'GSK', 'GSL', 'GSL^B', 'GTES', 'GTLS', 'GTLS^B', 'GTN', 'GTY', 'GUG', 'GUT', 'GUT^C', 'GVA', 'GWH', 'GWRE', 'GWW', 'GXO', 'H', 'HAE', 'HAFN', 'HAL', 'HASI', 'HAYW', 'HBB', 'HBI', 'HBM', 'HCA', 'HCC', 'HCI', 'HCXY', 'HD', 'HDB', 'HE', 'HEI', 'HEI/A', 'HEQ', 'HES', 'HESM', 'HFRO', 'HFRO^A', 'HG', 'HGLB', 'HGTY', 'HGV', 'HHH', 'HI', 'HIE', 'HIG', 'HIG^G', 'HII', 'HIMS', 'HIO', 'HIPO', 'HIW', 'HIX', 'HKD', 'HL', 'HL^B', 'HLF', 'HLI', 'HLIO', 'HLLY', 'HLN', 'HLT', 'HLX', 'HMC', 'HMN', 'HMY', 'HNI', 'HOG', 'HOMB', 'HOUS', 'HOV', 'HP', 'HPE', 'HPF', 'HPI', 'HPP', 'HPP^C', 'HPQ', 'HPS', 'HQH', 'HQL', 'HR', 'HRB', 'HRI', 'HRL', 'HRT', 'HRTG', 'HSBC', 'HSHP', 'HSY', 'HTD', 'HTFB', 'HTFC', 'HTGC', 'HTH', 'HTY', 'HUBB', 'HUBS', 'HUM', 'HUN', 'HUYA', 'HVT', 'HVT/A', 'HWM', 'HXL', 'HY', 'HYAC', 'HYB', 'HYI', 'HYLN', 'HYT', 'HZO', 'IAE', 'IAG', 'IBM', 'IBN', 'IBP', 'ICD', 'ICE', 'ICL', 'ICR^A', 'IDA', 'IDE', 'IDT', 'IEX', 'IFF', 'IFIN', 'IFN', 'IFS', 'IGA', 'IGD', 'IGI', 'IGR', 'IGT', 'IH', 'IHD', 'IHG', 'IHS', 'IHTA', 'IIF', 'IIIN', 'IIM', 'IIPR', 'IIPR^A', 'IMAX', 'INFA', 'INFY', 'ING', 'INGR', 'INN', 'INN^E', 'INN^F', 'INSI', 'INSP', 'INST', 'INSW', 'INVH', 'IONQ', 'IOT', 'IP', 'IPG', 'IPI', 'IQI', 'IQV', 'IR', 'IRM', 'IRS', 'IRT', 'ISD', 'IT', 'ITGR', 'ITT', 'ITUB', 'ITW', 'IVR', 'IVR^B', 'IVR^C', 'IVT', 'IVZ', 'IX', 'J', 'JBGS', 'JBI', 'JBK', 'JBL', 'JBT', 'JCE', 'JCI', 'JEF', 'JELD', 'JEQ', 'JFR', 'JGH', 'JHG', 'JHI', 'JHS', 'JHX', 'JILL', 'JKS', 'JLL', 'JLS', 'JMIA', 'JMM', 'JNJ', 'JNPR', 'JOBY', 'JOE', 'JOF', 'JPC', 'JPI', 'JPM', 'JPM^C', 'JPM^D', 'JPM^J', 'JPM^K', 'JPM^L', 'JPM^M', 'JQC', 'JRI', 'JRS', 'JWN', 'JXN', 'JXN^A', 'K', 'KAI', 'KAMN', 'KAR', 'KB', 'KBH', 'KBR', 'KCGI', 'KD', 'KEN', 'KEP', 'KEX', 'KEY', 'KEY^I', 'KEY^J', 'KEY^K', 'KEY^L', 'KEYS', 'KF', 'KFS', 'KFY', 'KGC', 'KGS', 'KIM', 'KIM^L', 'KIM^M', 'KIM^N', 'KIND', 'KIO', 'KKR', 'KKRS', 'KLG', 'KMB', 'KMI', 'KMPB', 'KMPR', 'KMT', 'KMX', 'KN', 'KNF', 'KNOP', 'KNSL', 'KNTK', 'KNX', 'KO', 'KODK', 'KOF', 'KOP', 'KORE', 'KOS', 'KR', 'KRC', 'KREF', 'KREF^A', 'KRG', 'KRO', 'KRP', 'KSM', 'KSS', 'KT', 'KTB', 'KTF', 'KTH', 'KTN', 'KUKE', 'KVUE', 'KVYO', 'KW', 'KWR', 'KYN', 'L', 'LAAC', 'LAC', 'LAD', 'LADR', 'LANV', 'LAW', 'LAZ', 'LBRT', 'LC', 'LCII', 'LCW', 'LDI', 'LDOS', 'LDP', 'LEA', 'LEG', 'LEN', 'LEO', 'LEV', 'LEVI', 'LFT', 'LFT^A', 'LGI', 'LH', 'LHX', 'LICY', 'LII', 'LITB', 'LL', 'LLAP', 'LLY', 'LMND', 'LMT', 'LNC', 'LNC^D', 'LND', 'LNG', 'LNN', 'LOB', 'LOCL', 'LOMA', 'LOW', 'LPG', 'LPL', 'LPX', 'LRN', 'LSPD', 'LTC', 'LTH', 'LU', 'LUMN', 'LUV', 'LVS', 'LVWR', 'LW', 'LXP', 'LXP^C', 'LXU', 'LYB', 'LYG', 'LYV', 'LZB', 'LZM', 'M', 'MA', 'MAA', 'MAA^I', 'MAC', 'MAIN', 'MAN', 'MANU', 'MAS', 'MATV', 'MATX', 'MAV', 'MAX', 'MBC', 'MBI', 'MC', 'MCB', 'MCD', 'MCI', 'MCK', 'MCN', 'MCO', 'MCR', 'MCS', 'MCW', 'MCY', 'MD', 'MDC', 'MDT', 'MDU', 'MDV', 'MDV^A', 'MEC', 'MED', 'MEG', 'MEGI', 'MEI', 'MER^K', 'MET', 'MET^A', 'MET^E', 'MET^F', 'MFA', 'MFA^B', 'MFA^C', 'MFAN', 'MFC', 'MFD', 'MFG', 'MFM', 'MG', 'MGA', 'MGF', 'MGM', 'MGR', 'MGRB', 'MGRD', 'MGRE', 'MGY', 'MHD', 'MHF', 'MHI', 'MHK', 'MHLA', 'MHN', 'MHNC', 'MHO', 'MIN', 'MIO', 'MIR', 'MITN', 'MITT', 'MITT^A', 'MITT^B', 'MITT^C', 'MIY', 'MKC', 'MKFG', 'MKL', 'ML', 'MLI', 'MLM', 'MLNK', 'MLP', 'MLR', 'MMC', 'MMD', 'MMI', 'MMM', 'MMS', 'MMT', 'MMU', 'MNR', 'MNSO', 'MNTN', 'MO', 'MOD', 'MODG', 'MODN', 'MOGU', 'MOH', 'MOS', 'MOV', 'MP', 'MPA', 'MPC', 'MPLN', 'MPLX', 'MPV', 'MPW', 'MPX', 'MQT', 'MQY', 'MRC', 'MRDB', 'MRK', 'MRO', 'MS', 'MS^A', 'MS^E', 'MS^F', 'MS^I', 'MS^K', 'MS^L', 'MS^O', 'MS^P', 'MSA', 'MSB', 'MSC', 'MSCI', 'MSD', 'MSDL', 'MSGE', 'MSGS', 'MSI', 'MSM', 'MT', 'MTAL', 'MTB', 'MTB^H', 'MTD', 'MTDR', 'MTG', 'MTH', 'MTN', 'MTR', 'MTRN', 'MTUS', 'MTW', 'MTX', 'MTZ', 'MUA', 'MUC', 'MUE', 'MUFG', 'MUI', 'MUJ', 'MUR', 'MUSA', 'MUX', 'MVF', 'MVO', 'MVT', 'MWA', 'MX', 'MXE', 'MXF', 'MYD', 'MYE', 'MYI', 'MYN', 'MYTE', 'NABL', 'NAC', 'NAD', 'NAN', 'NAPA', 'NAT', 'NATL', 'NAZ', 'NBB', 'NBHC', 'NBR', 'NBXG', 'NC', 'NCA', 'NCDL', 'NCLH', 'NCV', 'NCV^A', 'NCZ', 'NCZ^A', 'NDMO', 'NDP', 'NE', 'NEA', 'NEE', 'NEE^N', 'NEE^R', 'NEM', 'NEP', 'NET', 'NEU', 'NEUE', 'NEXA', 'NFG', 'NFJ', 'NFYS', 'NGG', 'NGL', 'NGL^B', 'NGL^C', 'NGS', 'NGVC', 'NGVT', 'NHI', 'NI', 'NIC', 'NIE', 'NIM', 'NINE', 'NIO', 'NJR', 'NKE', 'NKX', 'NL', 'NLOP', 'NLY', 'NLY^F', 'NLY^G', 'NLY^I', 'NMAI', 'NMCO', 'NMG', 'NMI', 'NMM', 'NMR', 'NMS', 'NMT', 'NMZ', 'NNI', 'NNN', 'NNY', 'NOA', 'NOAH', 'NOC', 'NOG', 'NOK', 'NOM', 'NOMD', 'NOTE', 'NOV', 'NOVA', 'NOW', 'NPCT', 'NPFD', 'NPK', 'NPO', 'NPV', 'NPWR', 'NQP', 'NR', 'NRDY', 'NREF', 'NREF^A', 'NRG', 'NRGV', 'NRK', 'NRP', 'NRT', 'NRUC', 'NS', 'NS^A', 'NS^B', 'NS^C', 'NSA', 'NSA^A', 'NSC', 'NSP', 'NSS', 'NTB', 'NTG', 'NTR', 'NTST', 'NTZ', 'NU', 'NUE', 'NUS', 'NUV', 'NUVB', 'NUW', 'NVG', 'NVGS', 'NVO', 'NVR', 'NVRI', 'NVRO', 'NVS', 'NVST', 'NVT', 'NWG', 'NWN', 'NX', 'NXC', 'NXDT', 'NXDT^A', 'NXE', 'NXG', 'NXJ', 'NXN', 'NXP', 'NXRT', 'NYC', 'NYCB', 'NYCB^A', 'NYCB^U', 'NYT', 'NZF', 'O', 'O^', 'OAK^A', 'OAK^B', 'OBDC', 'OBDE', 'OBK', 'OC', 'OCFT', 'OCN', 'ODC', 'ODV', 'OEC', 'OFG', 'OGE', 'OGN', 'OGS', 'OHI', 'OI', 'OIA', 'OII', 'OIS', 'OKE', 'OLN', 'OLO', 'OLP', 'OMC', 'OMF', 'OMI', 'ONL', 'ONON', 'ONTF', 'ONTO', 'OOMA', 'OPAD', 'OPFI', 'OPP', 'OPP^A', 'OPP^B', 'OPY', 'OR', 'ORA', 'ORAN', 'ORC', 'ORCL', 'ORI', 'ORN', 'OSCR', 'OSG', 'OSI', 'OSK', 'OTIS', 'OUST', 'OUT', 'OVV', 'OWL', 'OWLT', 'OXM', 'OXY', 'PAAS', 'PAC', 'PACK', 'PACS', 'PAG', 'PAGS', 'PAI', 'PAM', 'PAR', 'PARR', 'PATH', 'PAXS', 'PAY', 'PAYC', 'PB', 'PBA', 'PBF', 'PBH', 'PBI', 'PBI^B', 'PBR', 'PBT', 'PCF', 'PCG', 'PCK', 'PCM', 'PCN', 'PCOR', 'PCQ', 'PD', 'PDI', 'PDM', 'PDO', 'PDS', 'PDT', 'PDX', 'PEB', 'PEB^E', 'PEB^F', 'PEB^G', 'PEB^H', 'PEG', 'PEN', 'PEO', 'PERF', 'PFD', 'PFE', 'PFGC', 'PFH', 'PFL', 'PFLT', 'PFN', 'PFO', 'PFS', 'PFSI', 'PG', 'PGP', 'PGR', 'PGRE', 'PGRU', 'PGSS', 'PGZ', 'PH', 'PHD', 'PHG', 'PHI', 'PHIN', 'PHK', 'PHM', 'PHR', 'PHT', 'PHX', 'PHYT', 'PII', 'PIM', 'PINE', 'PINS', 'PIPR', 'PJT', 'PK', 'PKE', 'PKG', 'PKST', 'PKX', 'PL', 'PLD', 'PLNT', 'PLOW', 'PLTR', 'PLYM', 'PM', 'PMF', 'PML', 'PMM', 'PMO', 'PMT', 'PMT^A', 'PMT^B', 'PMT^C', 'PMTU', 'PMX', 'PNC', 'PNF', 'PNI', 'PNM', 'PNNT', 'PNR', 'PNST', 'PNW', 'POR', 'POST', 'PPG', 'PPL', 'PPT', 'PR', 'PRA', 'PRE^J', 'PRG', 'PRGO', 'PRH', 'PRI', 'PRIF^D', 'PRIF^F', 'PRIF^G', 'PRIF^H', 'PRIF^I', 'PRIF^J', 'PRIF^K', 'PRIF^L', 'PRIM', 'PRKS', 'PRLB', 'PRM', 'PRMW', 'PRO', 'PRS', 'PRT', 'PRU', 'PSA', 'PSA^F', 'PSA^G', 'PSA^H', 'PSA^I', 'PSA^J', 'PSA^K', 'PSA^L', 'PSA^M', 'PSA^N', 'PSA^O', 'PSA^P', 'PSA^Q', 'PSA^R', 'PSA^S', 'PSBD', 'PSEC^A', 'PSF', 'PSFE', 'PSN', 'PSO', 'PSQH', 'PSTG', 'PSTL', 'PSX', 'PTA', 'PTY', 'PUK', 'PUMP', 'PVH', 'PVL', 'PWR', 'PWSC', 'PX', 'PXD', 'PYN', 'PYT', 'PZC', 'QBTS', 'QD', 'QGEN', 'QS', 'QSR', 'QTWO', 'QUAD', 'QVCC', 'QVCD', 'R', 'RA', 'RACE', 'RAMP', 'RBA', 'RBC', 'RBCP', 'RBLX', 'RBOT', 'RBT', 'RC', 'RC^C', 'RC^E', 'RCB', 'RCC', 'RCFA', 'RCI', 'RCL', 'RCS', 'RCUS', 'RDDT', 'RDN', 'RDW', 'RDY', 'RELX', 'RERE', 'RES', 'REVG', 'REX', 'REXR', 'REXR^B', 'REXR^C', 'REZI', 'RF', 'RF^B', 'RF^C', 'RF^E', 'RFI', 'RFL', 'RFM', 'RFMZ', 'RGA', 'RGR', 'RGT', 'RH', 'RHI', 'RHP', 'RIG', 'RIO', 'RITM', 'RITM^A', 'RITM^B', 'RITM^C', 'RITM^D', 'RIV', 'RIV^A', 'RJF', 'RJF^B', 'RKT', 'RL', 'RLI', 'RLJ', 'RLJ^A', 'RLTY', 'RLX', 'RM', 'RMAX', 'RMD', 'RMI', 'RMM', 'RMMZ', 'RMPL^', 'RMT', 'RNG', 'RNGR', 'RNP', 'RNR', 'RNR^F', 'RNR^G', 'RNST', 'ROG', 'ROK', 'ROL', 'RPM', 'RQI', 'RRAC', 'RRC', 'RRX', 'RS', 'RSF', 'RSG', 'RSI', 'RSKD', 'RTO', 'RTX', 'RVLV', 'RVT', 'RVTY', 'RWT', 'RWT^A', 'RWTN', 'RXO', 'RY', 'RYAM', 'RYAN', 'RYI', 'RYN', 'RZB', 'RZC', 'S', 'SA', 'SABA', 'SAFE', 'SAH', 'SAJ', 'SAM', 'SAN', 'SAND          ', 'SAP', 'SAR', 'SAT', 'SAVE', 'SAY', 'SAZ', 'SB', 'SB^C', 'SB^D', 'SBBA', 'SBH', 'SBI', 'SBOW', 'SBR', 'SBS', 'SBSW', 'SBXC', 'SCCO', 'SCD', 'SCE^G', 'SCE^H', 'SCE^J', 'SCE^K', 'SCE^L', 'SCE^M', 'SCHW', 'SCHW^D', 'SCHW^J', 'SCI', 'SCL', 'SCM', 'SCS', 'SCX', 'SD', 'SDHC', 'SDHY', 'SDRL', 'SE', 'SEAL^A', 'SEAL^B', 'SEDA', 'SEE', 'SEM', 'SEMR', 'SES', 'SF', 'SF^B', 'SF^C', 'SF^D', 'SFB', 'SFBS', 'SFL', 'SG', 'SGHC', 'SGU', 'SHAK', 'SHCO', 'SHEL', 'SHG', 'SHO', 'SHO^H', 'SHO^I', 'SHOP', 'SHW', 'SID', 'SIG', 'SII', 'SITC', 'SITC^A', 'SITE', 'SIX', 'SJM', 'SJT', 'SJW', 'SKE', 'SKIL', 'SKLZ', 'SKM', 'SKT', 'SKX', 'SKY', 'SLB', 'SLCA', 'SLF', 'SLG', 'SLG^I', 'SLGN', 'SLQT', 'SLVM', 'SM', 'SMAR', 'SMBK', 'SMFG', 'SMG', 'SMHI', 'SMLP', 'SMP', 'SMR', 'SMRT', 'SMWB', 'SN', 'SNA', 'SNAP', 'SNDA', 'SNDR', 'SNN', 'SNOW', 'SNV', 'SNV^D', 'SNV^E', 'SNX', 'SO', 'SOC', 'SOI', 'SOJC', 'SOJD', 'SOJE', 'SOL', 'SOLV', 'SON', 'SONY', 'SOR', 'SOS', 'SPB', 'SPCE', 'SPE', 'SPG', 'SPG^J', 'SPGI', 'SPH', 'SPHR', 'SPIR', 'SPLP', 'SPLP^A', 'SPNT', 'SPNT^B', 'SPOT', 'SPR', 'SPRU', 'SPXC', 'SPXX', 'SQ', 'SQM', 'SQNS', 'SQSP', 'SR', 'SR^A', 'SRE', 'SREA', 'SRFM', 'SRG', 'SRG^A', 'SRI', 'SRL', 'SRV', 'SSB', 'SSD', 'SSL', 'SST', 'SSTK', 'ST', 'STAG', 'STC', 'STE', 'STEL', 'STEM', 'STEW', 'STG', 'STK', 'STLA', 'STM', 'STN', 'STNG', 'STR', 'STT', 'STT^G', 'STVN', 'STWD', 'STZ', 'SU', 'SUI', 'SUM', 'SUN', 'SUP', 'SUPV', 'SUZ', 'SVV', 'SWI', 'SWK', 'SWN', 'SWX', 'SWZ', 'SXC', 'SXI', 'SXT', 'SYF', 'SYF^A', 'SYF^B', 'SYK', 'SYY', 'T', 'T^A', 'T^C', 'TAC', 'TAK', 'TAL', 'TALO', 'TAP', 'TARO', 'TBB', 'TBBB', 'TBC', 'TBI', 'TCI', 'TCN', 'TCOA', 'TCS', 'TD', 'TDC', 'TDCX', 'TDF', 'TDG', 'TDOC', 'TDS', 'TDS^U', 'TDS^V', 'TDW', 'TDY', 'TEAF', 'TECK', 'TEF', 'TEI', 'TEL', 'TEO', 'TEVA', 'TEX', 'TFC', 'TFC^I', 'TFC^O', 'TFC^R', 'TFII', 'TFPM', 'TFSA', 'TFX', 'TG', 'TGI', 'TGLS', 'TGNA', 'TGS', 'TGT', 'THC', 'THG', 'THO', 'THQ', 'THR', 'THS', 'THW', 'TIMB', 'TISI', 'TIXT', 'TJX', 'TK', 'TKC', 'TKO', 'TKR', 'TLK', 'TLYS', 'TM', 'TME', 'TMHC', 'TMO', 'TNC', 'TNET', 'TNK', 'TNL', 'TNP', 'TNP^E', 'TNP^F', 'TOL', 'TOST', 'TPB', 'TPC', 'TPH', 'TPL', 'TPR', 'TPTA', 'TPVG', 'TPX', 'TPZ', 'TR', 'TRAK', 'TRC', 'TREX', 'TRGP', 'TRI', 'TRIS', 'TRN', 'TRNO', 'TROX', 'TRP', 'TRTL', 'TRTN^A', 'TRTN^B', 'TRTN^C', 'TRTN^D', 'TRTN^E', 'TRTX', 'TRTX^C', 'TRU', 'TRV', 'TS', 'TSE', 'TSI', 'TSLX', 'TSM', 'TSN', 'TSQ', 'TT', 'TTC', 'TTE', 'TTI', 'TTP', 'TU', 'TUP', 'TUYA', 'TV', 'TVC', 'TVE', 'TWI', 'TWLO', 'TWN', 'TWO', 'TWO^A', 'TWO^B', 'TWO^C', 'TX', 'TXO', 'TXT', 'TY', 'TY^', 'TYG', 'TYL', 'U', 'UA', 'UAA', 'UAN', 'UBER', 'UBS', 'UDR', 'UE', 'UFI', 'UGI', 'UGIC', 'UGP', 'UHAL', 'UHS', 'UHT', 'UI', 'UIS', 'UL', 'ULS', 'UMC', 'UMH', 'UMH^D', 'UNF', 'UNFI', 'UNH', 'UNM', 'UNMA', 'UNP', 'UP', 'UPS', 'URI', 'USA', 'USAC', 'USB', 'USB^A', 'USB^H', 'USB^P', 'USB^Q', 'USB^R', 'USB^S', 'USFD', 'USM', 'USNA', 'USPH', 'UTF', 'UTI', 'UTL', 'UTZ', 'UVE', 'UVV', 'UWMC', 'UZD', 'UZE', 'UZF', 'V', 'VAC', 'VAL', 'VALE', 'VATE', 'VBF', 'VCV', 'VEEV', 'VEL', 'VET', 'VFC', 'VGI', 'VGM', 'VGR', 'VHC', 'VHI', 'VIAO', 'VICI', 'VIPS', 'VIST', 'VIV', 'VKQ', 'VLD', 'VLN', 'VLO', 'VLRS', 'VLT', 'VLTO', 'VMC', 'VMI', 'VMO', 'VNCE', 'VNO', 'VNO^L', 'VNO^M', 'VNO^N', 'VNO^O', 'VNT', 'VOC', 'VOYA', 'VOYA^B', 'VPG', 'VPV', 'VRE', 'VRT', 'VRTS', 'VSCO', 'VSH', 'VST', 'VSTO', 'VSTS', 'VTEX', 'VTLE', 'VTMX', 'VTN', 'VTOL', 'VTR', 'VTS', 'VVI', 'VVR', 'VVV', 'VVX', 'VYX', 'VZIO', 'W', 'WAB', 'WAL', 'WAL^A', 'WAT', 'WBS', 'WBS^F', 'WBS^G', 'WBX', 'WCC', 'WCC^A', 'WCN', 'WD', 'WDH', 'WDI', 'WDS', 'WEA', 'WEAV', 'WEC', 'WEL', 'WELL', 'WES', 'WEX', 'WF', 'WFC', 'WFC^A', 'WFC^C', 'WFC^D', 'WFC^L', 'WFC^Y', 'WFC^Z', 'WFG', 'WGO', 'WH', 'WHD', 'WHG', 'WHR', 'WIA', 'WIT', 'WIW', 'WK', 'WKC', 'WLK', 'WLKP', 'WLY', 'WLYB', 'WM', 'WMB', 'WMK', 'WMS', 'WMT', 'WNC', 'WNS', 'WOLF', 'WOR', 'WOW', 'WPC', 'WPM', 'WPP', 'WRB', 'WRB^E', 'WRB^F', 'WRB^G', 'WRB^H', 'WRBY', 'WRK', 'WS', 'WSM', 'WSO', 'WSO/B', 'WSR', 'WST', 'WT', 'WTI', 'WTM', 'WTRG', 'WTS', 'WTTR', 'WU', 'WWW', 'WY', 'X', 'XFLT', 'XFLT^A', 'XHR', 'XIN', 'XOM', 'XPER', 'XPEV', 'XPO', 'XPOF', 'XPRO', 'XYF', 'XYL', 'YALA', 'YELP', 'YETI', 'YEXT', 'YMM', 'YOU', 'YPF', 'YRD', 'YSG', 'YUM', 'YUMC', 'ZBH', 'ZEPP', 'ZETA', 'ZGN', 'ZH', 'ZIM', 'ZIP', 'ZKH', 'ZTO', 'ZTR', 'ZTS', 'ZUO', 'ZVIA', 'ZWS']\n"
     ]
    }
   ],
   "source": [
    "import csv\n",
    "\n",
    "stocks = []\n",
    "\n",
    "with open('stocks.csv', newline='') as File:  \n",
    "    reader = csv.reader(File)\n",
    "    for row in reader:\n",
    "        if row[0] != 'Symbol':\n",
    "            stocks.append(row[0])\n",
    "\n",
    "# print(stocks)\n",
    "            "
   ]
  },
  {
   "cell_type": "code",
   "execution_count": 43,
   "metadata": {},
   "outputs": [],
   "source": [
    "import random\n",
    "#             создать подвыборку\n",
    "#             наивный вариант\n",
    "def random_subsample(num, stocks):\n",
    "    my_stocks = []\n",
    "    for i in range(num):\n",
    "        my_stocks.append(random.choice(stocks))\n",
    "    return my_stocks"
   ]
  },
  {
   "cell_type": "code",
   "execution_count": 44,
   "metadata": {
    "colab": {
     "base_uri": "https://localhost:8080/",
     "height": 1000
    },
    "id": "pAe2EFQvuPnP",
    "outputId": "bb3f1404-9736-418c-c2d8-7433952d583e"
   },
   "outputs": [
    {
     "name": "stderr",
     "output_type": "stream",
     "text": [
      "TAP: No price data found, symbol may be delisted (1d 2017-04-04 -> 2017-04-04)\n",
      "STVN: Data doesn't exist for startDate = 1491278400, endDate = 1491278400\n",
      "BBN: No price data found, symbol may be delisted (1d 2017-04-04 -> 2017-04-04)\n",
      "ABBV: No price data found, symbol may be delisted (1d 2017-04-04 -> 2017-04-04)\n",
      "ANF: No price data found, symbol may be delisted (1d 2017-04-04 -> 2017-04-04)\n",
      "MFA^B: No timezone found, symbol may be delisted\n"
     ]
    },
    {
     "ename": "KeyboardInterrupt",
     "evalue": "",
     "output_type": "error",
     "traceback": [
      "\u001b[0;31m---------------------------------------------------------------------------\u001b[0m",
      "\u001b[0;31mKeyboardInterrupt\u001b[0m                         Traceback (most recent call last)",
      "Input \u001b[0;32mIn [44]\u001b[0m, in \u001b[0;36m<cell line: 9>\u001b[0;34m()\u001b[0m\n\u001b[1;32m     26\u001b[0m num \u001b[38;5;241m=\u001b[39m random\u001b[38;5;241m.\u001b[39mrandint(\u001b[38;5;241m1\u001b[39m, \u001b[38;5;28mlen\u001b[39m(stocks))\n\u001b[1;32m     27\u001b[0m my_stocks \u001b[38;5;241m=\u001b[39m random_subsample(num, stocks)\n\u001b[0;32m---> 29\u001b[0m dataset \u001b[38;5;241m=\u001b[39m (\u001b[43mdownload_data\u001b[49m\u001b[43m(\u001b[49m\u001b[43mmy_stocks\u001b[49m\u001b[43m,\u001b[49m\u001b[43m \u001b[49m\u001b[43mstart_date\u001b[49m\u001b[43m,\u001b[49m\u001b[43m \u001b[49m\u001b[43mend_date\u001b[49m\u001b[43m)\u001b[49m)\n\u001b[1;32m     30\u001b[0m log_daily_returns \u001b[38;5;241m=\u001b[39m calculate_return(dataset)\n\u001b[1;32m     31\u001b[0m show_statistics(log_daily_returns)\n",
      "Input \u001b[0;32mIn [34]\u001b[0m, in \u001b[0;36mdownload_data\u001b[0;34m(stocks, start_date, end_date)\u001b[0m\n\u001b[1;32m      9\u001b[0m \u001b[38;5;28;01mfor\u001b[39;00m stock \u001b[38;5;129;01min\u001b[39;00m stocks:\n\u001b[1;32m     10\u001b[0m   ticker \u001b[38;5;241m=\u001b[39m yf\u001b[38;5;241m.\u001b[39mTicker(stock)\n\u001b[0;32m---> 11\u001b[0m   df[stock] \u001b[38;5;241m=\u001b[39m \u001b[43mticker\u001b[49m\u001b[38;5;241;43m.\u001b[39;49m\u001b[43mhistory\u001b[49m\u001b[43m(\u001b[49m\u001b[43mstart\u001b[49m\u001b[43m \u001b[49m\u001b[38;5;241;43m=\u001b[39;49m\u001b[43m \u001b[49m\u001b[43mstart_date\u001b[49m\u001b[43m,\u001b[49m\u001b[43m \u001b[49m\u001b[43mend\u001b[49m\u001b[43m \u001b[49m\u001b[38;5;241;43m=\u001b[39;49m\u001b[43m \u001b[49m\u001b[43mend_date\u001b[49m\u001b[43m)\u001b[49m[\u001b[38;5;124m'\u001b[39m\u001b[38;5;124mClose\u001b[39m\u001b[38;5;124m'\u001b[39m]\n\u001b[1;32m     12\u001b[0m \u001b[38;5;28;01mreturn\u001b[39;00m pd\u001b[38;5;241m.\u001b[39mDataFrame(df)\n",
      "File \u001b[0;32m/opt/homebrew/Caskroom/miniforge/base/envs/SciEnv/lib/python3.10/site-packages/yfinance/utils.py:103\u001b[0m, in \u001b[0;36mlog_indent_decorator.<locals>.wrapper\u001b[0;34m(*args, **kwargs)\u001b[0m\n\u001b[1;32m    100\u001b[0m logger\u001b[38;5;241m.\u001b[39mdebug(\u001b[38;5;124mf\u001b[39m\u001b[38;5;124m'\u001b[39m\u001b[38;5;124mEntering \u001b[39m\u001b[38;5;132;01m{\u001b[39;00mfunc\u001b[38;5;241m.\u001b[39m\u001b[38;5;18m__name__\u001b[39m\u001b[38;5;132;01m}\u001b[39;00m\u001b[38;5;124m()\u001b[39m\u001b[38;5;124m'\u001b[39m)\n\u001b[1;32m    102\u001b[0m \u001b[38;5;28;01mwith\u001b[39;00m IndentationContext():\n\u001b[0;32m--> 103\u001b[0m     result \u001b[38;5;241m=\u001b[39m \u001b[43mfunc\u001b[49m\u001b[43m(\u001b[49m\u001b[38;5;241;43m*\u001b[39;49m\u001b[43margs\u001b[49m\u001b[43m,\u001b[49m\u001b[43m \u001b[49m\u001b[38;5;241;43m*\u001b[39;49m\u001b[38;5;241;43m*\u001b[39;49m\u001b[43mkwargs\u001b[49m\u001b[43m)\u001b[49m\n\u001b[1;32m    105\u001b[0m logger\u001b[38;5;241m.\u001b[39mdebug(\u001b[38;5;124mf\u001b[39m\u001b[38;5;124m'\u001b[39m\u001b[38;5;124mExiting \u001b[39m\u001b[38;5;132;01m{\u001b[39;00mfunc\u001b[38;5;241m.\u001b[39m\u001b[38;5;18m__name__\u001b[39m\u001b[38;5;132;01m}\u001b[39;00m\u001b[38;5;124m()\u001b[39m\u001b[38;5;124m'\u001b[39m)\n\u001b[1;32m    106\u001b[0m \u001b[38;5;28;01mreturn\u001b[39;00m result\n",
      "File \u001b[0;32m/opt/homebrew/Caskroom/miniforge/base/envs/SciEnv/lib/python3.10/site-packages/yfinance/base.py:77\u001b[0m, in \u001b[0;36mTickerBase.history\u001b[0;34m(self, *args, **kwargs)\u001b[0m\n\u001b[1;32m     75\u001b[0m \u001b[38;5;129m@utils\u001b[39m\u001b[38;5;241m.\u001b[39mlog_indent_decorator\n\u001b[1;32m     76\u001b[0m \u001b[38;5;28;01mdef\u001b[39;00m \u001b[38;5;21mhistory\u001b[39m(\u001b[38;5;28mself\u001b[39m, \u001b[38;5;241m*\u001b[39margs, \u001b[38;5;241m*\u001b[39m\u001b[38;5;241m*\u001b[39mkwargs) \u001b[38;5;241m-\u001b[39m\u001b[38;5;241m>\u001b[39m pd\u001b[38;5;241m.\u001b[39mDataFrame:\n\u001b[0;32m---> 77\u001b[0m     \u001b[38;5;28;01mreturn\u001b[39;00m \u001b[38;5;28;43mself\u001b[39;49m\u001b[38;5;241;43m.\u001b[39;49m\u001b[43m_lazy_load_price_history\u001b[49m\u001b[43m(\u001b[49m\u001b[43m)\u001b[49m\u001b[38;5;241;43m.\u001b[39;49m\u001b[43mhistory\u001b[49m\u001b[43m(\u001b[49m\u001b[38;5;241;43m*\u001b[39;49m\u001b[43margs\u001b[49m\u001b[43m,\u001b[49m\u001b[43m \u001b[49m\u001b[38;5;241;43m*\u001b[39;49m\u001b[38;5;241;43m*\u001b[39;49m\u001b[43mkwargs\u001b[49m\u001b[43m)\u001b[49m\n",
      "File \u001b[0;32m/opt/homebrew/Caskroom/miniforge/base/envs/SciEnv/lib/python3.10/site-packages/yfinance/utils.py:103\u001b[0m, in \u001b[0;36mlog_indent_decorator.<locals>.wrapper\u001b[0;34m(*args, **kwargs)\u001b[0m\n\u001b[1;32m    100\u001b[0m logger\u001b[38;5;241m.\u001b[39mdebug(\u001b[38;5;124mf\u001b[39m\u001b[38;5;124m'\u001b[39m\u001b[38;5;124mEntering \u001b[39m\u001b[38;5;132;01m{\u001b[39;00mfunc\u001b[38;5;241m.\u001b[39m\u001b[38;5;18m__name__\u001b[39m\u001b[38;5;132;01m}\u001b[39;00m\u001b[38;5;124m()\u001b[39m\u001b[38;5;124m'\u001b[39m)\n\u001b[1;32m    102\u001b[0m \u001b[38;5;28;01mwith\u001b[39;00m IndentationContext():\n\u001b[0;32m--> 103\u001b[0m     result \u001b[38;5;241m=\u001b[39m \u001b[43mfunc\u001b[49m\u001b[43m(\u001b[49m\u001b[38;5;241;43m*\u001b[39;49m\u001b[43margs\u001b[49m\u001b[43m,\u001b[49m\u001b[43m \u001b[49m\u001b[38;5;241;43m*\u001b[39;49m\u001b[38;5;241;43m*\u001b[39;49m\u001b[43mkwargs\u001b[49m\u001b[43m)\u001b[49m\n\u001b[1;32m    105\u001b[0m logger\u001b[38;5;241m.\u001b[39mdebug(\u001b[38;5;124mf\u001b[39m\u001b[38;5;124m'\u001b[39m\u001b[38;5;124mExiting \u001b[39m\u001b[38;5;132;01m{\u001b[39;00mfunc\u001b[38;5;241m.\u001b[39m\u001b[38;5;18m__name__\u001b[39m\u001b[38;5;132;01m}\u001b[39;00m\u001b[38;5;124m()\u001b[39m\u001b[38;5;124m'\u001b[39m)\n\u001b[1;32m    106\u001b[0m \u001b[38;5;28;01mreturn\u001b[39;00m result\n",
      "File \u001b[0;32m/opt/homebrew/Caskroom/miniforge/base/envs/SciEnv/lib/python3.10/site-packages/yfinance/scrapers/history.py:139\u001b[0m, in \u001b[0;36mPriceHistory.history\u001b[0;34m(self, period, interval, start, end, prepost, actions, auto_adjust, back_adjust, repair, keepna, proxy, rounding, timeout, raise_errors)\u001b[0m\n\u001b[1;32m    137\u001b[0m         get_fn \u001b[38;5;241m=\u001b[39m \u001b[38;5;28mself\u001b[39m\u001b[38;5;241m.\u001b[39m_data\u001b[38;5;241m.\u001b[39mcache_get\n\u001b[1;32m    138\u001b[0m \u001b[38;5;28;01mtry\u001b[39;00m:\n\u001b[0;32m--> 139\u001b[0m     data \u001b[38;5;241m=\u001b[39m \u001b[43mget_fn\u001b[49m\u001b[43m(\u001b[49m\n\u001b[1;32m    140\u001b[0m \u001b[43m        \u001b[49m\u001b[43murl\u001b[49m\u001b[38;5;241;43m=\u001b[39;49m\u001b[43murl\u001b[49m\u001b[43m,\u001b[49m\n\u001b[1;32m    141\u001b[0m \u001b[43m        \u001b[49m\u001b[43mparams\u001b[49m\u001b[38;5;241;43m=\u001b[39;49m\u001b[43mparams\u001b[49m\u001b[43m,\u001b[49m\n\u001b[1;32m    142\u001b[0m \u001b[43m        \u001b[49m\u001b[43mproxy\u001b[49m\u001b[38;5;241;43m=\u001b[39;49m\u001b[43mproxy\u001b[49m\u001b[43m,\u001b[49m\n\u001b[1;32m    143\u001b[0m \u001b[43m        \u001b[49m\u001b[43mtimeout\u001b[49m\u001b[38;5;241;43m=\u001b[39;49m\u001b[43mtimeout\u001b[49m\n\u001b[1;32m    144\u001b[0m \u001b[43m    \u001b[49m\u001b[43m)\u001b[49m\n\u001b[1;32m    145\u001b[0m     \u001b[38;5;28;01mif\u001b[39;00m \u001b[38;5;124m\"\u001b[39m\u001b[38;5;124mWill be right back\u001b[39m\u001b[38;5;124m\"\u001b[39m \u001b[38;5;129;01min\u001b[39;00m data\u001b[38;5;241m.\u001b[39mtext \u001b[38;5;129;01mor\u001b[39;00m data \u001b[38;5;129;01mis\u001b[39;00m \u001b[38;5;28;01mNone\u001b[39;00m:\n\u001b[1;32m    146\u001b[0m         \u001b[38;5;28;01mraise\u001b[39;00m \u001b[38;5;167;01mRuntimeError\u001b[39;00m(\u001b[38;5;124m\"\u001b[39m\u001b[38;5;124m*** YAHOO! FINANCE IS CURRENTLY DOWN! ***\u001b[39m\u001b[38;5;130;01m\\n\u001b[39;00m\u001b[38;5;124m\"\u001b[39m\n\u001b[1;32m    147\u001b[0m                            \u001b[38;5;124m\"\u001b[39m\u001b[38;5;124mOur engineers are working quickly to resolve \u001b[39m\u001b[38;5;124m\"\u001b[39m\n\u001b[1;32m    148\u001b[0m                            \u001b[38;5;124m\"\u001b[39m\u001b[38;5;124mthe issue. Thank you for your patience.\u001b[39m\u001b[38;5;124m\"\u001b[39m)\n",
      "File \u001b[0;32m/opt/homebrew/Caskroom/miniforge/base/envs/SciEnv/lib/python3.10/site-packages/yfinance/data.py:28\u001b[0m, in \u001b[0;36mlru_cache_freezeargs.<locals>.wrapped\u001b[0;34m(*args, **kwargs)\u001b[0m\n\u001b[1;32m     26\u001b[0m args \u001b[38;5;241m=\u001b[39m \u001b[38;5;28mtuple\u001b[39m([\u001b[38;5;28mtuple\u001b[39m(arg) \u001b[38;5;28;01mif\u001b[39;00m \u001b[38;5;28misinstance\u001b[39m(arg, \u001b[38;5;28mlist\u001b[39m) \u001b[38;5;28;01melse\u001b[39;00m arg \u001b[38;5;28;01mfor\u001b[39;00m arg \u001b[38;5;129;01min\u001b[39;00m args])\n\u001b[1;32m     27\u001b[0m kwargs \u001b[38;5;241m=\u001b[39m {k: \u001b[38;5;28mtuple\u001b[39m(v) \u001b[38;5;28;01mif\u001b[39;00m \u001b[38;5;28misinstance\u001b[39m(v, \u001b[38;5;28mlist\u001b[39m) \u001b[38;5;28;01melse\u001b[39;00m v \u001b[38;5;28;01mfor\u001b[39;00m k, v \u001b[38;5;129;01min\u001b[39;00m kwargs\u001b[38;5;241m.\u001b[39mitems()}\n\u001b[0;32m---> 28\u001b[0m \u001b[38;5;28;01mreturn\u001b[39;00m \u001b[43mfunc\u001b[49m\u001b[43m(\u001b[49m\u001b[38;5;241;43m*\u001b[39;49m\u001b[43margs\u001b[49m\u001b[43m,\u001b[49m\u001b[43m \u001b[49m\u001b[38;5;241;43m*\u001b[39;49m\u001b[38;5;241;43m*\u001b[39;49m\u001b[43mkwargs\u001b[49m\u001b[43m)\u001b[49m\n",
      "File \u001b[0;32m/opt/homebrew/Caskroom/miniforge/base/envs/SciEnv/lib/python3.10/site-packages/yfinance/data.py:387\u001b[0m, in \u001b[0;36mYfData.cache_get\u001b[0;34m(self, url, user_agent_headers, params, proxy, timeout)\u001b[0m\n\u001b[1;32m    384\u001b[0m \u001b[38;5;129m@lru_cache_freezeargs\u001b[39m\n\u001b[1;32m    385\u001b[0m \u001b[38;5;129m@lru_cache\u001b[39m(maxsize\u001b[38;5;241m=\u001b[39mcache_maxsize)\n\u001b[1;32m    386\u001b[0m \u001b[38;5;28;01mdef\u001b[39;00m \u001b[38;5;21mcache_get\u001b[39m(\u001b[38;5;28mself\u001b[39m, url, user_agent_headers\u001b[38;5;241m=\u001b[39m\u001b[38;5;28;01mNone\u001b[39;00m, params\u001b[38;5;241m=\u001b[39m\u001b[38;5;28;01mNone\u001b[39;00m, proxy\u001b[38;5;241m=\u001b[39m\u001b[38;5;28;01mNone\u001b[39;00m, timeout\u001b[38;5;241m=\u001b[39m\u001b[38;5;241m30\u001b[39m):\n\u001b[0;32m--> 387\u001b[0m     \u001b[38;5;28;01mreturn\u001b[39;00m \u001b[38;5;28;43mself\u001b[39;49m\u001b[38;5;241;43m.\u001b[39;49m\u001b[43mget\u001b[49m\u001b[43m(\u001b[49m\u001b[43murl\u001b[49m\u001b[43m,\u001b[49m\u001b[43m \u001b[49m\u001b[43muser_agent_headers\u001b[49m\u001b[43m,\u001b[49m\u001b[43m \u001b[49m\u001b[43mparams\u001b[49m\u001b[43m,\u001b[49m\u001b[43m \u001b[49m\u001b[43mproxy\u001b[49m\u001b[43m,\u001b[49m\u001b[43m \u001b[49m\u001b[43mtimeout\u001b[49m\u001b[43m)\u001b[49m\n",
      "File \u001b[0;32m/opt/homebrew/Caskroom/miniforge/base/envs/SciEnv/lib/python3.10/site-packages/yfinance/utils.py:103\u001b[0m, in \u001b[0;36mlog_indent_decorator.<locals>.wrapper\u001b[0;34m(*args, **kwargs)\u001b[0m\n\u001b[1;32m    100\u001b[0m logger\u001b[38;5;241m.\u001b[39mdebug(\u001b[38;5;124mf\u001b[39m\u001b[38;5;124m'\u001b[39m\u001b[38;5;124mEntering \u001b[39m\u001b[38;5;132;01m{\u001b[39;00mfunc\u001b[38;5;241m.\u001b[39m\u001b[38;5;18m__name__\u001b[39m\u001b[38;5;132;01m}\u001b[39;00m\u001b[38;5;124m()\u001b[39m\u001b[38;5;124m'\u001b[39m)\n\u001b[1;32m    102\u001b[0m \u001b[38;5;28;01mwith\u001b[39;00m IndentationContext():\n\u001b[0;32m--> 103\u001b[0m     result \u001b[38;5;241m=\u001b[39m \u001b[43mfunc\u001b[49m\u001b[43m(\u001b[49m\u001b[38;5;241;43m*\u001b[39;49m\u001b[43margs\u001b[49m\u001b[43m,\u001b[49m\u001b[43m \u001b[49m\u001b[38;5;241;43m*\u001b[39;49m\u001b[38;5;241;43m*\u001b[39;49m\u001b[43mkwargs\u001b[49m\u001b[43m)\u001b[49m\n\u001b[1;32m    105\u001b[0m logger\u001b[38;5;241m.\u001b[39mdebug(\u001b[38;5;124mf\u001b[39m\u001b[38;5;124m'\u001b[39m\u001b[38;5;124mExiting \u001b[39m\u001b[38;5;132;01m{\u001b[39;00mfunc\u001b[38;5;241m.\u001b[39m\u001b[38;5;18m__name__\u001b[39m\u001b[38;5;132;01m}\u001b[39;00m\u001b[38;5;124m()\u001b[39m\u001b[38;5;124m'\u001b[39m)\n\u001b[1;32m    106\u001b[0m \u001b[38;5;28;01mreturn\u001b[39;00m result\n",
      "File \u001b[0;32m/opt/homebrew/Caskroom/miniforge/base/envs/SciEnv/lib/python3.10/site-packages/yfinance/data.py:375\u001b[0m, in \u001b[0;36mYfData.get\u001b[0;34m(self, url, user_agent_headers, params, proxy, timeout)\u001b[0m\n\u001b[1;32m    373\u001b[0m \u001b[38;5;28;01melse\u001b[39;00m:\n\u001b[1;32m    374\u001b[0m     \u001b[38;5;28mself\u001b[39m\u001b[38;5;241m.\u001b[39m_set_cookie_strategy(\u001b[38;5;124m'\u001b[39m\u001b[38;5;124mbasic\u001b[39m\u001b[38;5;124m'\u001b[39m)\n\u001b[0;32m--> 375\u001b[0m cookie, crumb, strategy \u001b[38;5;241m=\u001b[39m \u001b[38;5;28;43mself\u001b[39;49m\u001b[38;5;241;43m.\u001b[39;49m\u001b[43m_get_cookie_and_crumb\u001b[49m\u001b[43m(\u001b[49m\u001b[43mproxy\u001b[49m\u001b[43m,\u001b[49m\u001b[43m \u001b[49m\u001b[43mtimeout\u001b[49m\u001b[43m)\u001b[49m\n\u001b[1;32m    376\u001b[0m request_args[\u001b[38;5;124m'\u001b[39m\u001b[38;5;124mparams\u001b[39m\u001b[38;5;124m'\u001b[39m][\u001b[38;5;124m'\u001b[39m\u001b[38;5;124mcrumb\u001b[39m\u001b[38;5;124m'\u001b[39m] \u001b[38;5;241m=\u001b[39m crumb\n\u001b[1;32m    377\u001b[0m \u001b[38;5;28;01mif\u001b[39;00m strategy \u001b[38;5;241m==\u001b[39m \u001b[38;5;124m'\u001b[39m\u001b[38;5;124mbasic\u001b[39m\u001b[38;5;124m'\u001b[39m:\n",
      "File \u001b[0;32m/opt/homebrew/Caskroom/miniforge/base/envs/SciEnv/lib/python3.10/site-packages/yfinance/utils.py:103\u001b[0m, in \u001b[0;36mlog_indent_decorator.<locals>.wrapper\u001b[0;34m(*args, **kwargs)\u001b[0m\n\u001b[1;32m    100\u001b[0m logger\u001b[38;5;241m.\u001b[39mdebug(\u001b[38;5;124mf\u001b[39m\u001b[38;5;124m'\u001b[39m\u001b[38;5;124mEntering \u001b[39m\u001b[38;5;132;01m{\u001b[39;00mfunc\u001b[38;5;241m.\u001b[39m\u001b[38;5;18m__name__\u001b[39m\u001b[38;5;132;01m}\u001b[39;00m\u001b[38;5;124m()\u001b[39m\u001b[38;5;124m'\u001b[39m)\n\u001b[1;32m    102\u001b[0m \u001b[38;5;28;01mwith\u001b[39;00m IndentationContext():\n\u001b[0;32m--> 103\u001b[0m     result \u001b[38;5;241m=\u001b[39m \u001b[43mfunc\u001b[49m\u001b[43m(\u001b[49m\u001b[38;5;241;43m*\u001b[39;49m\u001b[43margs\u001b[49m\u001b[43m,\u001b[49m\u001b[43m \u001b[49m\u001b[38;5;241;43m*\u001b[39;49m\u001b[38;5;241;43m*\u001b[39;49m\u001b[43mkwargs\u001b[49m\u001b[43m)\u001b[49m\n\u001b[1;32m    105\u001b[0m logger\u001b[38;5;241m.\u001b[39mdebug(\u001b[38;5;124mf\u001b[39m\u001b[38;5;124m'\u001b[39m\u001b[38;5;124mExiting \u001b[39m\u001b[38;5;132;01m{\u001b[39;00mfunc\u001b[38;5;241m.\u001b[39m\u001b[38;5;18m__name__\u001b[39m\u001b[38;5;132;01m}\u001b[39;00m\u001b[38;5;124m()\u001b[39m\u001b[38;5;124m'\u001b[39m)\n\u001b[1;32m    106\u001b[0m \u001b[38;5;28;01mreturn\u001b[39;00m result\n",
      "File \u001b[0;32m/opt/homebrew/Caskroom/miniforge/base/envs/SciEnv/lib/python3.10/site-packages/yfinance/data.py:317\u001b[0m, in \u001b[0;36mYfData._get_cookie_and_crumb\u001b[0;34m(self, proxy, timeout)\u001b[0m\n\u001b[1;32m    315\u001b[0m \u001b[38;5;28;01mwith\u001b[39;00m \u001b[38;5;28mself\u001b[39m\u001b[38;5;241m.\u001b[39m_cookie_lock:\n\u001b[1;32m    316\u001b[0m     \u001b[38;5;28;01mif\u001b[39;00m \u001b[38;5;28mself\u001b[39m\u001b[38;5;241m.\u001b[39m_cookie_strategy \u001b[38;5;241m==\u001b[39m \u001b[38;5;124m'\u001b[39m\u001b[38;5;124mcsrf\u001b[39m\u001b[38;5;124m'\u001b[39m:\n\u001b[0;32m--> 317\u001b[0m         crumb \u001b[38;5;241m=\u001b[39m \u001b[38;5;28;43mself\u001b[39;49m\u001b[38;5;241;43m.\u001b[39;49m\u001b[43m_get_crumb_csrf\u001b[49m\u001b[43m(\u001b[49m\u001b[43m)\u001b[49m\n\u001b[1;32m    318\u001b[0m         \u001b[38;5;28;01mif\u001b[39;00m crumb \u001b[38;5;129;01mis\u001b[39;00m \u001b[38;5;28;01mNone\u001b[39;00m:\n\u001b[1;32m    319\u001b[0m             \u001b[38;5;66;03m# Fail\u001b[39;00m\n\u001b[1;32m    320\u001b[0m             \u001b[38;5;28mself\u001b[39m\u001b[38;5;241m.\u001b[39m_set_cookie_strategy(\u001b[38;5;124m'\u001b[39m\u001b[38;5;124mbasic\u001b[39m\u001b[38;5;124m'\u001b[39m, have_lock\u001b[38;5;241m=\u001b[39m\u001b[38;5;28;01mTrue\u001b[39;00m)\n",
      "File \u001b[0;32m/opt/homebrew/Caskroom/miniforge/base/envs/SciEnv/lib/python3.10/site-packages/yfinance/utils.py:103\u001b[0m, in \u001b[0;36mlog_indent_decorator.<locals>.wrapper\u001b[0;34m(*args, **kwargs)\u001b[0m\n\u001b[1;32m    100\u001b[0m logger\u001b[38;5;241m.\u001b[39mdebug(\u001b[38;5;124mf\u001b[39m\u001b[38;5;124m'\u001b[39m\u001b[38;5;124mEntering \u001b[39m\u001b[38;5;132;01m{\u001b[39;00mfunc\u001b[38;5;241m.\u001b[39m\u001b[38;5;18m__name__\u001b[39m\u001b[38;5;132;01m}\u001b[39;00m\u001b[38;5;124m()\u001b[39m\u001b[38;5;124m'\u001b[39m)\n\u001b[1;32m    102\u001b[0m \u001b[38;5;28;01mwith\u001b[39;00m IndentationContext():\n\u001b[0;32m--> 103\u001b[0m     result \u001b[38;5;241m=\u001b[39m \u001b[43mfunc\u001b[49m\u001b[43m(\u001b[49m\u001b[38;5;241;43m*\u001b[39;49m\u001b[43margs\u001b[49m\u001b[43m,\u001b[49m\u001b[43m \u001b[49m\u001b[38;5;241;43m*\u001b[39;49m\u001b[38;5;241;43m*\u001b[39;49m\u001b[43mkwargs\u001b[49m\u001b[43m)\u001b[49m\n\u001b[1;32m    105\u001b[0m logger\u001b[38;5;241m.\u001b[39mdebug(\u001b[38;5;124mf\u001b[39m\u001b[38;5;124m'\u001b[39m\u001b[38;5;124mExiting \u001b[39m\u001b[38;5;132;01m{\u001b[39;00mfunc\u001b[38;5;241m.\u001b[39m\u001b[38;5;18m__name__\u001b[39m\u001b[38;5;132;01m}\u001b[39;00m\u001b[38;5;124m()\u001b[39m\u001b[38;5;124m'\u001b[39m)\n\u001b[1;32m    106\u001b[0m \u001b[38;5;28;01mreturn\u001b[39;00m result\n",
      "File \u001b[0;32m/opt/homebrew/Caskroom/miniforge/base/envs/SciEnv/lib/python3.10/site-packages/yfinance/data.py:286\u001b[0m, in \u001b[0;36mYfData._get_crumb_csrf\u001b[0;34m(self, proxy, timeout)\u001b[0m\n\u001b[1;32m    283\u001b[0m     utils\u001b[38;5;241m.\u001b[39mget_yf_logger()\u001b[38;5;241m.\u001b[39mdebug(\u001b[38;5;124m'\u001b[39m\u001b[38;5;124mreusing crumb\u001b[39m\u001b[38;5;124m'\u001b[39m)\n\u001b[1;32m    284\u001b[0m     \u001b[38;5;28;01mreturn\u001b[39;00m \u001b[38;5;28mself\u001b[39m\u001b[38;5;241m.\u001b[39m_crumb\n\u001b[0;32m--> 286\u001b[0m \u001b[38;5;28;01mif\u001b[39;00m \u001b[38;5;129;01mnot\u001b[39;00m \u001b[38;5;28;43mself\u001b[39;49m\u001b[38;5;241;43m.\u001b[39;49m\u001b[43m_get_cookie_csrf\u001b[49m\u001b[43m(\u001b[49m\u001b[43mproxy\u001b[49m\u001b[43m,\u001b[49m\u001b[43m \u001b[49m\u001b[43mtimeout\u001b[49m\u001b[43m)\u001b[49m:\n\u001b[1;32m    287\u001b[0m     \u001b[38;5;66;03m# This cookie stored in session\u001b[39;00m\n\u001b[1;32m    288\u001b[0m     \u001b[38;5;28;01mreturn\u001b[39;00m \u001b[38;5;28;01mNone\u001b[39;00m\n\u001b[1;32m    290\u001b[0m get_args \u001b[38;5;241m=\u001b[39m {\n\u001b[1;32m    291\u001b[0m     \u001b[38;5;124m'\u001b[39m\u001b[38;5;124murl\u001b[39m\u001b[38;5;124m'\u001b[39m: \u001b[38;5;124m'\u001b[39m\u001b[38;5;124mhttps://query2.finance.yahoo.com/v1/test/getcrumb\u001b[39m\u001b[38;5;124m'\u001b[39m,\n\u001b[1;32m    292\u001b[0m     \u001b[38;5;124m'\u001b[39m\u001b[38;5;124mheaders\u001b[39m\u001b[38;5;124m'\u001b[39m: \u001b[38;5;28mself\u001b[39m\u001b[38;5;241m.\u001b[39muser_agent_headers,\n\u001b[1;32m    293\u001b[0m     \u001b[38;5;124m'\u001b[39m\u001b[38;5;124mproxies\u001b[39m\u001b[38;5;124m'\u001b[39m: proxy,\n\u001b[1;32m    294\u001b[0m     \u001b[38;5;124m'\u001b[39m\u001b[38;5;124mtimeout\u001b[39m\u001b[38;5;124m'\u001b[39m: timeout}\n",
      "File \u001b[0;32m/opt/homebrew/Caskroom/miniforge/base/envs/SciEnv/lib/python3.10/site-packages/yfinance/data.py:237\u001b[0m, in \u001b[0;36mYfData._get_cookie_csrf\u001b[0;34m(self, proxy, timeout)\u001b[0m\n\u001b[1;32m    235\u001b[0m     response \u001b[38;5;241m=\u001b[39m \u001b[38;5;28mself\u001b[39m\u001b[38;5;241m.\u001b[39m_session\u001b[38;5;241m.\u001b[39mget(\u001b[38;5;241m*\u001b[39m\u001b[38;5;241m*\u001b[39mget_args)\n\u001b[1;32m    236\u001b[0m \u001b[38;5;28;01melse\u001b[39;00m:\n\u001b[0;32m--> 237\u001b[0m     response \u001b[38;5;241m=\u001b[39m \u001b[38;5;28;43mself\u001b[39;49m\u001b[38;5;241;43m.\u001b[39;49m\u001b[43m_session\u001b[49m\u001b[38;5;241;43m.\u001b[39;49m\u001b[43mget\u001b[49m\u001b[43m(\u001b[49m\u001b[38;5;241;43m*\u001b[39;49m\u001b[38;5;241;43m*\u001b[39;49m\u001b[43mget_args\u001b[49m\u001b[43m)\u001b[49m\n\u001b[1;32m    239\u001b[0m soup \u001b[38;5;241m=\u001b[39m BeautifulSoup(response\u001b[38;5;241m.\u001b[39mcontent, \u001b[38;5;124m'\u001b[39m\u001b[38;5;124mhtml.parser\u001b[39m\u001b[38;5;124m'\u001b[39m)\n\u001b[1;32m    240\u001b[0m csrfTokenInput \u001b[38;5;241m=\u001b[39m soup\u001b[38;5;241m.\u001b[39mfind(\u001b[38;5;124m'\u001b[39m\u001b[38;5;124minput\u001b[39m\u001b[38;5;124m'\u001b[39m, attrs\u001b[38;5;241m=\u001b[39m{\u001b[38;5;124m'\u001b[39m\u001b[38;5;124mname\u001b[39m\u001b[38;5;124m'\u001b[39m: \u001b[38;5;124m'\u001b[39m\u001b[38;5;124mcsrfToken\u001b[39m\u001b[38;5;124m'\u001b[39m})\n",
      "File \u001b[0;32m/opt/homebrew/Caskroom/miniforge/base/envs/SciEnv/lib/python3.10/site-packages/requests/sessions.py:602\u001b[0m, in \u001b[0;36mSession.get\u001b[0;34m(self, url, **kwargs)\u001b[0m\n\u001b[1;32m    594\u001b[0m \u001b[38;5;124mr\u001b[39m\u001b[38;5;124;03m\"\"\"Sends a GET request. Returns :class:`Response` object.\u001b[39;00m\n\u001b[1;32m    595\u001b[0m \n\u001b[1;32m    596\u001b[0m \u001b[38;5;124;03m:param url: URL for the new :class:`Request` object.\u001b[39;00m\n\u001b[1;32m    597\u001b[0m \u001b[38;5;124;03m:param \\*\\*kwargs: Optional arguments that ``request`` takes.\u001b[39;00m\n\u001b[1;32m    598\u001b[0m \u001b[38;5;124;03m:rtype: requests.Response\u001b[39;00m\n\u001b[1;32m    599\u001b[0m \u001b[38;5;124;03m\"\"\"\u001b[39;00m\n\u001b[1;32m    601\u001b[0m kwargs\u001b[38;5;241m.\u001b[39msetdefault(\u001b[38;5;124m\"\u001b[39m\u001b[38;5;124mallow_redirects\u001b[39m\u001b[38;5;124m\"\u001b[39m, \u001b[38;5;28;01mTrue\u001b[39;00m)\n\u001b[0;32m--> 602\u001b[0m \u001b[38;5;28;01mreturn\u001b[39;00m \u001b[38;5;28;43mself\u001b[39;49m\u001b[38;5;241;43m.\u001b[39;49m\u001b[43mrequest\u001b[49m\u001b[43m(\u001b[49m\u001b[38;5;124;43m\"\u001b[39;49m\u001b[38;5;124;43mGET\u001b[39;49m\u001b[38;5;124;43m\"\u001b[39;49m\u001b[43m,\u001b[49m\u001b[43m \u001b[49m\u001b[43murl\u001b[49m\u001b[43m,\u001b[49m\u001b[43m \u001b[49m\u001b[38;5;241;43m*\u001b[39;49m\u001b[38;5;241;43m*\u001b[39;49m\u001b[43mkwargs\u001b[49m\u001b[43m)\u001b[49m\n",
      "File \u001b[0;32m/opt/homebrew/Caskroom/miniforge/base/envs/SciEnv/lib/python3.10/site-packages/requests/sessions.py:589\u001b[0m, in \u001b[0;36mSession.request\u001b[0;34m(self, method, url, params, data, headers, cookies, files, auth, timeout, allow_redirects, proxies, hooks, stream, verify, cert, json)\u001b[0m\n\u001b[1;32m    584\u001b[0m send_kwargs \u001b[38;5;241m=\u001b[39m {\n\u001b[1;32m    585\u001b[0m     \u001b[38;5;124m\"\u001b[39m\u001b[38;5;124mtimeout\u001b[39m\u001b[38;5;124m\"\u001b[39m: timeout,\n\u001b[1;32m    586\u001b[0m     \u001b[38;5;124m\"\u001b[39m\u001b[38;5;124mallow_redirects\u001b[39m\u001b[38;5;124m\"\u001b[39m: allow_redirects,\n\u001b[1;32m    587\u001b[0m }\n\u001b[1;32m    588\u001b[0m send_kwargs\u001b[38;5;241m.\u001b[39mupdate(settings)\n\u001b[0;32m--> 589\u001b[0m resp \u001b[38;5;241m=\u001b[39m \u001b[38;5;28;43mself\u001b[39;49m\u001b[38;5;241;43m.\u001b[39;49m\u001b[43msend\u001b[49m\u001b[43m(\u001b[49m\u001b[43mprep\u001b[49m\u001b[43m,\u001b[49m\u001b[43m \u001b[49m\u001b[38;5;241;43m*\u001b[39;49m\u001b[38;5;241;43m*\u001b[39;49m\u001b[43msend_kwargs\u001b[49m\u001b[43m)\u001b[49m\n\u001b[1;32m    591\u001b[0m \u001b[38;5;28;01mreturn\u001b[39;00m resp\n",
      "File \u001b[0;32m/opt/homebrew/Caskroom/miniforge/base/envs/SciEnv/lib/python3.10/site-packages/requests/sessions.py:725\u001b[0m, in \u001b[0;36mSession.send\u001b[0;34m(self, request, **kwargs)\u001b[0m\n\u001b[1;32m    722\u001b[0m \u001b[38;5;28;01mif\u001b[39;00m allow_redirects:\n\u001b[1;32m    723\u001b[0m     \u001b[38;5;66;03m# Redirect resolving generator.\u001b[39;00m\n\u001b[1;32m    724\u001b[0m     gen \u001b[38;5;241m=\u001b[39m \u001b[38;5;28mself\u001b[39m\u001b[38;5;241m.\u001b[39mresolve_redirects(r, request, \u001b[38;5;241m*\u001b[39m\u001b[38;5;241m*\u001b[39mkwargs)\n\u001b[0;32m--> 725\u001b[0m     history \u001b[38;5;241m=\u001b[39m [resp \u001b[38;5;28;01mfor\u001b[39;00m resp \u001b[38;5;129;01min\u001b[39;00m gen]\n\u001b[1;32m    726\u001b[0m \u001b[38;5;28;01melse\u001b[39;00m:\n\u001b[1;32m    727\u001b[0m     history \u001b[38;5;241m=\u001b[39m []\n",
      "File \u001b[0;32m/opt/homebrew/Caskroom/miniforge/base/envs/SciEnv/lib/python3.10/site-packages/requests/sessions.py:725\u001b[0m, in \u001b[0;36m<listcomp>\u001b[0;34m(.0)\u001b[0m\n\u001b[1;32m    722\u001b[0m \u001b[38;5;28;01mif\u001b[39;00m allow_redirects:\n\u001b[1;32m    723\u001b[0m     \u001b[38;5;66;03m# Redirect resolving generator.\u001b[39;00m\n\u001b[1;32m    724\u001b[0m     gen \u001b[38;5;241m=\u001b[39m \u001b[38;5;28mself\u001b[39m\u001b[38;5;241m.\u001b[39mresolve_redirects(r, request, \u001b[38;5;241m*\u001b[39m\u001b[38;5;241m*\u001b[39mkwargs)\n\u001b[0;32m--> 725\u001b[0m     history \u001b[38;5;241m=\u001b[39m [resp \u001b[38;5;28;01mfor\u001b[39;00m resp \u001b[38;5;129;01min\u001b[39;00m gen]\n\u001b[1;32m    726\u001b[0m \u001b[38;5;28;01melse\u001b[39;00m:\n\u001b[1;32m    727\u001b[0m     history \u001b[38;5;241m=\u001b[39m []\n",
      "File \u001b[0;32m/opt/homebrew/Caskroom/miniforge/base/envs/SciEnv/lib/python3.10/site-packages/requests/sessions.py:266\u001b[0m, in \u001b[0;36mSessionRedirectMixin.resolve_redirects\u001b[0;34m(self, resp, req, stream, timeout, verify, cert, proxies, yield_requests, **adapter_kwargs)\u001b[0m\n\u001b[1;32m    263\u001b[0m     \u001b[38;5;28;01myield\u001b[39;00m req\n\u001b[1;32m    264\u001b[0m \u001b[38;5;28;01melse\u001b[39;00m:\n\u001b[0;32m--> 266\u001b[0m     resp \u001b[38;5;241m=\u001b[39m \u001b[38;5;28;43mself\u001b[39;49m\u001b[38;5;241;43m.\u001b[39;49m\u001b[43msend\u001b[49m\u001b[43m(\u001b[49m\n\u001b[1;32m    267\u001b[0m \u001b[43m        \u001b[49m\u001b[43mreq\u001b[49m\u001b[43m,\u001b[49m\n\u001b[1;32m    268\u001b[0m \u001b[43m        \u001b[49m\u001b[43mstream\u001b[49m\u001b[38;5;241;43m=\u001b[39;49m\u001b[43mstream\u001b[49m\u001b[43m,\u001b[49m\n\u001b[1;32m    269\u001b[0m \u001b[43m        \u001b[49m\u001b[43mtimeout\u001b[49m\u001b[38;5;241;43m=\u001b[39;49m\u001b[43mtimeout\u001b[49m\u001b[43m,\u001b[49m\n\u001b[1;32m    270\u001b[0m \u001b[43m        \u001b[49m\u001b[43mverify\u001b[49m\u001b[38;5;241;43m=\u001b[39;49m\u001b[43mverify\u001b[49m\u001b[43m,\u001b[49m\n\u001b[1;32m    271\u001b[0m \u001b[43m        \u001b[49m\u001b[43mcert\u001b[49m\u001b[38;5;241;43m=\u001b[39;49m\u001b[43mcert\u001b[49m\u001b[43m,\u001b[49m\n\u001b[1;32m    272\u001b[0m \u001b[43m        \u001b[49m\u001b[43mproxies\u001b[49m\u001b[38;5;241;43m=\u001b[39;49m\u001b[43mproxies\u001b[49m\u001b[43m,\u001b[49m\n\u001b[1;32m    273\u001b[0m \u001b[43m        \u001b[49m\u001b[43mallow_redirects\u001b[49m\u001b[38;5;241;43m=\u001b[39;49m\u001b[38;5;28;43;01mFalse\u001b[39;49;00m\u001b[43m,\u001b[49m\n\u001b[1;32m    274\u001b[0m \u001b[43m        \u001b[49m\u001b[38;5;241;43m*\u001b[39;49m\u001b[38;5;241;43m*\u001b[39;49m\u001b[43madapter_kwargs\u001b[49m\u001b[43m,\u001b[49m\n\u001b[1;32m    275\u001b[0m \u001b[43m    \u001b[49m\u001b[43m)\u001b[49m\n\u001b[1;32m    277\u001b[0m     extract_cookies_to_jar(\u001b[38;5;28mself\u001b[39m\u001b[38;5;241m.\u001b[39mcookies, prepared_request, resp\u001b[38;5;241m.\u001b[39mraw)\n\u001b[1;32m    279\u001b[0m     \u001b[38;5;66;03m# extract redirect url, if any, for the next loop\u001b[39;00m\n",
      "File \u001b[0;32m/opt/homebrew/Caskroom/miniforge/base/envs/SciEnv/lib/python3.10/site-packages/requests/sessions.py:747\u001b[0m, in \u001b[0;36mSession.send\u001b[0;34m(self, request, **kwargs)\u001b[0m\n\u001b[1;32m    744\u001b[0m         \u001b[38;5;28;01mpass\u001b[39;00m\n\u001b[1;32m    746\u001b[0m \u001b[38;5;28;01mif\u001b[39;00m \u001b[38;5;129;01mnot\u001b[39;00m stream:\n\u001b[0;32m--> 747\u001b[0m     \u001b[43mr\u001b[49m\u001b[38;5;241;43m.\u001b[39;49m\u001b[43mcontent\u001b[49m\n\u001b[1;32m    749\u001b[0m \u001b[38;5;28;01mreturn\u001b[39;00m r\n",
      "File \u001b[0;32m/opt/homebrew/Caskroom/miniforge/base/envs/SciEnv/lib/python3.10/site-packages/requests/models.py:899\u001b[0m, in \u001b[0;36mResponse.content\u001b[0;34m(self)\u001b[0m\n\u001b[1;32m    897\u001b[0m         \u001b[38;5;28mself\u001b[39m\u001b[38;5;241m.\u001b[39m_content \u001b[38;5;241m=\u001b[39m \u001b[38;5;28;01mNone\u001b[39;00m\n\u001b[1;32m    898\u001b[0m     \u001b[38;5;28;01melse\u001b[39;00m:\n\u001b[0;32m--> 899\u001b[0m         \u001b[38;5;28mself\u001b[39m\u001b[38;5;241m.\u001b[39m_content \u001b[38;5;241m=\u001b[39m \u001b[38;5;124;43mb\u001b[39;49m\u001b[38;5;124;43m\"\u001b[39;49m\u001b[38;5;124;43m\"\u001b[39;49m\u001b[38;5;241;43m.\u001b[39;49m\u001b[43mjoin\u001b[49m\u001b[43m(\u001b[49m\u001b[38;5;28;43mself\u001b[39;49m\u001b[38;5;241;43m.\u001b[39;49m\u001b[43miter_content\u001b[49m\u001b[43m(\u001b[49m\u001b[43mCONTENT_CHUNK_SIZE\u001b[49m\u001b[43m)\u001b[49m\u001b[43m)\u001b[49m \u001b[38;5;129;01mor\u001b[39;00m \u001b[38;5;124mb\u001b[39m\u001b[38;5;124m\"\u001b[39m\u001b[38;5;124m\"\u001b[39m\n\u001b[1;32m    901\u001b[0m \u001b[38;5;28mself\u001b[39m\u001b[38;5;241m.\u001b[39m_content_consumed \u001b[38;5;241m=\u001b[39m \u001b[38;5;28;01mTrue\u001b[39;00m\n\u001b[1;32m    902\u001b[0m \u001b[38;5;66;03m# don't need to release the connection; that's been handled by urllib3\u001b[39;00m\n\u001b[1;32m    903\u001b[0m \u001b[38;5;66;03m# since we exhausted the data.\u001b[39;00m\n",
      "File \u001b[0;32m/opt/homebrew/Caskroom/miniforge/base/envs/SciEnv/lib/python3.10/site-packages/requests/models.py:816\u001b[0m, in \u001b[0;36mResponse.iter_content.<locals>.generate\u001b[0;34m()\u001b[0m\n\u001b[1;32m    814\u001b[0m \u001b[38;5;28;01mif\u001b[39;00m \u001b[38;5;28mhasattr\u001b[39m(\u001b[38;5;28mself\u001b[39m\u001b[38;5;241m.\u001b[39mraw, \u001b[38;5;124m\"\u001b[39m\u001b[38;5;124mstream\u001b[39m\u001b[38;5;124m\"\u001b[39m):\n\u001b[1;32m    815\u001b[0m     \u001b[38;5;28;01mtry\u001b[39;00m:\n\u001b[0;32m--> 816\u001b[0m         \u001b[38;5;28;01myield from\u001b[39;00m \u001b[38;5;28mself\u001b[39m\u001b[38;5;241m.\u001b[39mraw\u001b[38;5;241m.\u001b[39mstream(chunk_size, decode_content\u001b[38;5;241m=\u001b[39m\u001b[38;5;28;01mTrue\u001b[39;00m)\n\u001b[1;32m    817\u001b[0m     \u001b[38;5;28;01mexcept\u001b[39;00m ProtocolError \u001b[38;5;28;01mas\u001b[39;00m e:\n\u001b[1;32m    818\u001b[0m         \u001b[38;5;28;01mraise\u001b[39;00m ChunkedEncodingError(e)\n",
      "File \u001b[0;32m/opt/homebrew/Caskroom/miniforge/base/envs/SciEnv/lib/python3.10/site-packages/urllib3/response.py:1040\u001b[0m, in \u001b[0;36mHTTPResponse.stream\u001b[0;34m(self, amt, decode_content)\u001b[0m\n\u001b[1;32m   1024\u001b[0m \u001b[38;5;124;03m\"\"\"\u001b[39;00m\n\u001b[1;32m   1025\u001b[0m \u001b[38;5;124;03mA generator wrapper for the read() method. A call will block until\u001b[39;00m\n\u001b[1;32m   1026\u001b[0m \u001b[38;5;124;03m``amt`` bytes have been read from the connection or until the\u001b[39;00m\n\u001b[0;32m   (...)\u001b[0m\n\u001b[1;32m   1037\u001b[0m \u001b[38;5;124;03m    'content-encoding' header.\u001b[39;00m\n\u001b[1;32m   1038\u001b[0m \u001b[38;5;124;03m\"\"\"\u001b[39;00m\n\u001b[1;32m   1039\u001b[0m \u001b[38;5;28;01mif\u001b[39;00m \u001b[38;5;28mself\u001b[39m\u001b[38;5;241m.\u001b[39mchunked \u001b[38;5;129;01mand\u001b[39;00m \u001b[38;5;28mself\u001b[39m\u001b[38;5;241m.\u001b[39msupports_chunked_reads():\n\u001b[0;32m-> 1040\u001b[0m     \u001b[38;5;28;01myield from\u001b[39;00m \u001b[38;5;28mself\u001b[39m\u001b[38;5;241m.\u001b[39mread_chunked(amt, decode_content\u001b[38;5;241m=\u001b[39mdecode_content)\n\u001b[1;32m   1041\u001b[0m \u001b[38;5;28;01melse\u001b[39;00m:\n\u001b[1;32m   1042\u001b[0m     \u001b[38;5;28;01mwhile\u001b[39;00m \u001b[38;5;129;01mnot\u001b[39;00m is_fp_closed(\u001b[38;5;28mself\u001b[39m\u001b[38;5;241m.\u001b[39m_fp) \u001b[38;5;129;01mor\u001b[39;00m \u001b[38;5;28mlen\u001b[39m(\u001b[38;5;28mself\u001b[39m\u001b[38;5;241m.\u001b[39m_decoded_buffer) \u001b[38;5;241m>\u001b[39m \u001b[38;5;241m0\u001b[39m:\n",
      "File \u001b[0;32m/opt/homebrew/Caskroom/miniforge/base/envs/SciEnv/lib/python3.10/site-packages/urllib3/response.py:1187\u001b[0m, in \u001b[0;36mHTTPResponse.read_chunked\u001b[0;34m(self, amt, decode_content)\u001b[0m\n\u001b[1;32m   1185\u001b[0m \u001b[38;5;28;01mif\u001b[39;00m \u001b[38;5;28mself\u001b[39m\u001b[38;5;241m.\u001b[39mchunk_left \u001b[38;5;241m==\u001b[39m \u001b[38;5;241m0\u001b[39m:\n\u001b[1;32m   1186\u001b[0m     \u001b[38;5;28;01mbreak\u001b[39;00m\n\u001b[0;32m-> 1187\u001b[0m chunk \u001b[38;5;241m=\u001b[39m \u001b[38;5;28;43mself\u001b[39;49m\u001b[38;5;241;43m.\u001b[39;49m\u001b[43m_handle_chunk\u001b[49m\u001b[43m(\u001b[49m\u001b[43mamt\u001b[49m\u001b[43m)\u001b[49m\n\u001b[1;32m   1188\u001b[0m decoded \u001b[38;5;241m=\u001b[39m \u001b[38;5;28mself\u001b[39m\u001b[38;5;241m.\u001b[39m_decode(\n\u001b[1;32m   1189\u001b[0m     chunk, decode_content\u001b[38;5;241m=\u001b[39mdecode_content, flush_decoder\u001b[38;5;241m=\u001b[39m\u001b[38;5;28;01mFalse\u001b[39;00m\n\u001b[1;32m   1190\u001b[0m )\n\u001b[1;32m   1191\u001b[0m \u001b[38;5;28;01mif\u001b[39;00m decoded:\n",
      "File \u001b[0;32m/opt/homebrew/Caskroom/miniforge/base/envs/SciEnv/lib/python3.10/site-packages/urllib3/response.py:1129\u001b[0m, in \u001b[0;36mHTTPResponse._handle_chunk\u001b[0;34m(self, amt)\u001b[0m\n\u001b[1;32m   1127\u001b[0m     \u001b[38;5;28mself\u001b[39m\u001b[38;5;241m.\u001b[39mchunk_left \u001b[38;5;241m=\u001b[39m \u001b[38;5;28;01mNone\u001b[39;00m\n\u001b[1;32m   1128\u001b[0m \u001b[38;5;28;01melif\u001b[39;00m \u001b[38;5;28mself\u001b[39m\u001b[38;5;241m.\u001b[39mchunk_left \u001b[38;5;129;01mis\u001b[39;00m \u001b[38;5;129;01mnot\u001b[39;00m \u001b[38;5;28;01mNone\u001b[39;00m \u001b[38;5;129;01mand\u001b[39;00m amt \u001b[38;5;241m<\u001b[39m \u001b[38;5;28mself\u001b[39m\u001b[38;5;241m.\u001b[39mchunk_left:\n\u001b[0;32m-> 1129\u001b[0m     value \u001b[38;5;241m=\u001b[39m \u001b[38;5;28;43mself\u001b[39;49m\u001b[38;5;241;43m.\u001b[39;49m\u001b[43m_fp\u001b[49m\u001b[38;5;241;43m.\u001b[39;49m\u001b[43m_safe_read\u001b[49m\u001b[43m(\u001b[49m\u001b[43mamt\u001b[49m\u001b[43m)\u001b[49m  \u001b[38;5;66;03m# type: ignore[union-attr]\u001b[39;00m\n\u001b[1;32m   1130\u001b[0m     \u001b[38;5;28mself\u001b[39m\u001b[38;5;241m.\u001b[39mchunk_left \u001b[38;5;241m=\u001b[39m \u001b[38;5;28mself\u001b[39m\u001b[38;5;241m.\u001b[39mchunk_left \u001b[38;5;241m-\u001b[39m amt\n\u001b[1;32m   1131\u001b[0m     returned_chunk \u001b[38;5;241m=\u001b[39m value\n",
      "File \u001b[0;32m/opt/homebrew/Caskroom/miniforge/base/envs/SciEnv/lib/python3.10/http/client.py:630\u001b[0m, in \u001b[0;36mHTTPResponse._safe_read\u001b[0;34m(self, amt)\u001b[0m\n\u001b[1;32m    623\u001b[0m \u001b[38;5;28;01mdef\u001b[39;00m \u001b[38;5;21m_safe_read\u001b[39m(\u001b[38;5;28mself\u001b[39m, amt):\n\u001b[1;32m    624\u001b[0m     \u001b[38;5;124;03m\"\"\"Read the number of bytes requested.\u001b[39;00m\n\u001b[1;32m    625\u001b[0m \n\u001b[1;32m    626\u001b[0m \u001b[38;5;124;03m    This function should be used when <amt> bytes \"should\" be present for\u001b[39;00m\n\u001b[1;32m    627\u001b[0m \u001b[38;5;124;03m    reading. If the bytes are truly not available (due to EOF), then the\u001b[39;00m\n\u001b[1;32m    628\u001b[0m \u001b[38;5;124;03m    IncompleteRead exception can be used to detect the problem.\u001b[39;00m\n\u001b[1;32m    629\u001b[0m \u001b[38;5;124;03m    \"\"\"\u001b[39;00m\n\u001b[0;32m--> 630\u001b[0m     data \u001b[38;5;241m=\u001b[39m \u001b[38;5;28;43mself\u001b[39;49m\u001b[38;5;241;43m.\u001b[39;49m\u001b[43mfp\u001b[49m\u001b[38;5;241;43m.\u001b[39;49m\u001b[43mread\u001b[49m\u001b[43m(\u001b[49m\u001b[43mamt\u001b[49m\u001b[43m)\u001b[49m\n\u001b[1;32m    631\u001b[0m     \u001b[38;5;28;01mif\u001b[39;00m \u001b[38;5;28mlen\u001b[39m(data) \u001b[38;5;241m<\u001b[39m amt:\n\u001b[1;32m    632\u001b[0m         \u001b[38;5;28;01mraise\u001b[39;00m IncompleteRead(data, amt\u001b[38;5;241m-\u001b[39m\u001b[38;5;28mlen\u001b[39m(data))\n",
      "File \u001b[0;32m/opt/homebrew/Caskroom/miniforge/base/envs/SciEnv/lib/python3.10/socket.py:705\u001b[0m, in \u001b[0;36mSocketIO.readinto\u001b[0;34m(self, b)\u001b[0m\n\u001b[1;32m    703\u001b[0m \u001b[38;5;28;01mwhile\u001b[39;00m \u001b[38;5;28;01mTrue\u001b[39;00m:\n\u001b[1;32m    704\u001b[0m     \u001b[38;5;28;01mtry\u001b[39;00m:\n\u001b[0;32m--> 705\u001b[0m         \u001b[38;5;28;01mreturn\u001b[39;00m \u001b[38;5;28;43mself\u001b[39;49m\u001b[38;5;241;43m.\u001b[39;49m\u001b[43m_sock\u001b[49m\u001b[38;5;241;43m.\u001b[39;49m\u001b[43mrecv_into\u001b[49m\u001b[43m(\u001b[49m\u001b[43mb\u001b[49m\u001b[43m)\u001b[49m\n\u001b[1;32m    706\u001b[0m     \u001b[38;5;28;01mexcept\u001b[39;00m timeout:\n\u001b[1;32m    707\u001b[0m         \u001b[38;5;28mself\u001b[39m\u001b[38;5;241m.\u001b[39m_timeout_occurred \u001b[38;5;241m=\u001b[39m \u001b[38;5;28;01mTrue\u001b[39;00m\n",
      "File \u001b[0;32m/opt/homebrew/Caskroom/miniforge/base/envs/SciEnv/lib/python3.10/ssl.py:1274\u001b[0m, in \u001b[0;36mSSLSocket.recv_into\u001b[0;34m(self, buffer, nbytes, flags)\u001b[0m\n\u001b[1;32m   1270\u001b[0m     \u001b[38;5;28;01mif\u001b[39;00m flags \u001b[38;5;241m!=\u001b[39m \u001b[38;5;241m0\u001b[39m:\n\u001b[1;32m   1271\u001b[0m         \u001b[38;5;28;01mraise\u001b[39;00m \u001b[38;5;167;01mValueError\u001b[39;00m(\n\u001b[1;32m   1272\u001b[0m           \u001b[38;5;124m\"\u001b[39m\u001b[38;5;124mnon-zero flags not allowed in calls to recv_into() on \u001b[39m\u001b[38;5;132;01m%s\u001b[39;00m\u001b[38;5;124m\"\u001b[39m \u001b[38;5;241m%\u001b[39m\n\u001b[1;32m   1273\u001b[0m           \u001b[38;5;28mself\u001b[39m\u001b[38;5;241m.\u001b[39m\u001b[38;5;18m__class__\u001b[39m)\n\u001b[0;32m-> 1274\u001b[0m     \u001b[38;5;28;01mreturn\u001b[39;00m \u001b[38;5;28;43mself\u001b[39;49m\u001b[38;5;241;43m.\u001b[39;49m\u001b[43mread\u001b[49m\u001b[43m(\u001b[49m\u001b[43mnbytes\u001b[49m\u001b[43m,\u001b[49m\u001b[43m \u001b[49m\u001b[43mbuffer\u001b[49m\u001b[43m)\u001b[49m\n\u001b[1;32m   1275\u001b[0m \u001b[38;5;28;01melse\u001b[39;00m:\n\u001b[1;32m   1276\u001b[0m     \u001b[38;5;28;01mreturn\u001b[39;00m \u001b[38;5;28msuper\u001b[39m()\u001b[38;5;241m.\u001b[39mrecv_into(buffer, nbytes, flags)\n",
      "File \u001b[0;32m/opt/homebrew/Caskroom/miniforge/base/envs/SciEnv/lib/python3.10/ssl.py:1130\u001b[0m, in \u001b[0;36mSSLSocket.read\u001b[0;34m(self, len, buffer)\u001b[0m\n\u001b[1;32m   1128\u001b[0m \u001b[38;5;28;01mtry\u001b[39;00m:\n\u001b[1;32m   1129\u001b[0m     \u001b[38;5;28;01mif\u001b[39;00m buffer \u001b[38;5;129;01mis\u001b[39;00m \u001b[38;5;129;01mnot\u001b[39;00m \u001b[38;5;28;01mNone\u001b[39;00m:\n\u001b[0;32m-> 1130\u001b[0m         \u001b[38;5;28;01mreturn\u001b[39;00m \u001b[38;5;28;43mself\u001b[39;49m\u001b[38;5;241;43m.\u001b[39;49m\u001b[43m_sslobj\u001b[49m\u001b[38;5;241;43m.\u001b[39;49m\u001b[43mread\u001b[49m\u001b[43m(\u001b[49m\u001b[38;5;28;43mlen\u001b[39;49m\u001b[43m,\u001b[49m\u001b[43m \u001b[49m\u001b[43mbuffer\u001b[49m\u001b[43m)\u001b[49m\n\u001b[1;32m   1131\u001b[0m     \u001b[38;5;28;01melse\u001b[39;00m:\n\u001b[1;32m   1132\u001b[0m         \u001b[38;5;28;01mreturn\u001b[39;00m \u001b[38;5;28mself\u001b[39m\u001b[38;5;241m.\u001b[39m_sslobj\u001b[38;5;241m.\u001b[39mread(\u001b[38;5;28mlen\u001b[39m)\n",
      "\u001b[0;31mKeyboardInterrupt\u001b[0m: "
     ]
    }
   ],
   "source": [
    "# stock_data = PyTickerSymbols()\n",
    "# german_stocks = stock_data.get_stocks_by_index('DAX')\n",
    "# uk_stocks = stock_data.get_stocks_by_index('FTSE 100')\n",
    "\n",
    "import datetime as DT\n",
    "import pandas as pd\n",
    "\n",
    "\n",
    "if __name__ == '__main__':\n",
    "\n",
    "    start_date = DT.datetime(2017, 4, 4)\n",
    "    end_date = DT.datetime(2024, 4, 4)\n",
    "\n",
    "    dates = pd.date_range(\n",
    "        min(start_date, end_date),\n",
    "        max(start_date, end_date)\n",
    "    ).strftime('%Y-%m-%d').tolist()\n",
    "    \n",
    "    periods = []\n",
    "    stocks_num = []\n",
    "    for i in range(len(dates)):\n",
    "        start_date = dates[i]\n",
    "        for end_date in dates[i:]:\n",
    "            \n",
    "            date1 = datetime.strptime(start_date, '%Y-%m-%d')\n",
    "            date2 = datetime.strptime(end_date, '%Y-%m-%d')\n",
    "\n",
    "            num_days = (date2 - date1).days\n",
    "            \n",
    "            periods.append(num_days)\n",
    "            \n",
    "            num = random.randint(1, len(stocks))\n",
    "            stocks_num.append(num)\n",
    "            \n",
    "            my_stocks = random_subsample(num, stocks)\n",
    "            \n",
    "            dataset = (download_data(my_stocks, start_date, end_date))\n",
    "            log_daily_returns = calculate_return(dataset)\n",
    "            show_statistics(log_daily_returns)\n",
    "            pweights, means, risks = generate_portfolios(log_daily_returns)\n",
    "            optimum = optimize_portfolio(pweights, log_daily_returns)\n",
    "            \n",
    "    \n",
    "#     строим графики зависимости от 1) длительности периода, 2) выборки акций, 3) количества акций"
   ]
  },
  {
   "cell_type": "code",
   "execution_count": null,
   "metadata": {},
   "outputs": [],
   "source": []
  },
  {
   "cell_type": "code",
   "execution_count": null,
   "metadata": {},
   "outputs": [],
   "source": []
  }
 ],
 "metadata": {
  "colab": {
   "provenance": []
  },
  "kernelspec": {
   "display_name": "SciEnv",
   "language": "python",
   "name": "scienv"
  },
  "language_info": {
   "codemirror_mode": {
    "name": "ipython",
    "version": 3
   },
   "file_extension": ".py",
   "mimetype": "text/x-python",
   "name": "python",
   "nbconvert_exporter": "python",
   "pygments_lexer": "ipython3",
   "version": "3.10.6"
  }
 },
 "nbformat": 4,
 "nbformat_minor": 1
}
